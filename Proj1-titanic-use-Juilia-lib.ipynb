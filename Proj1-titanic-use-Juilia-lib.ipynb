{
 "cells": [
  {
   "cell_type": "code",
   "execution_count": 2,
   "metadata": {},
   "outputs": [
    {
     "data": {
      "text/plain": [
       "8-element Array{Symbol,1}:\n",
       " :age               \n",
       " :portembarked      \n",
       " :fare              \n",
       " :numparentschildren\n",
       " :passengerclass    \n",
       " :sex               \n",
       " :numsiblings       \n",
       " :survived          "
      ]
     },
     "execution_count": 2,
     "metadata": {},
     "output_type": "execute_result"
    }
   ],
   "source": [
    "using Distributions\n",
    "using BayesNets\n",
    "using RDatasets\n",
    "using Discretizers\n",
    "titanic = dataset(\"/Users/siyu/Downloads/stanford-aa228-master/\",\"titanic\")\n",
    "names(titanic)"
   ]
  },
  {
   "cell_type": "code",
   "execution_count": 3,
   "metadata": {
    "scrolled": true
   },
   "outputs": [
    {
     "data": {
      "text/html": [
       "<table class=\"data-frame\"><thead><tr><th></th><th>Age</th><th>Portembarked</th><th>Fare</th><th>NPC</th><th>Class</th><th>Sex</th><th>NS</th><th>Survived</th></tr></thead><tbody><tr><th>1</th><td>1</td><td>1</td><td>1</td><td>1</td><td>1</td><td>1</td><td>1</td><td>1</td></tr><tr><th>2</th><td>2</td><td>2</td><td>1</td><td>1</td><td>2</td><td>2</td><td>1</td><td>2</td></tr><tr><th>3</th><td>1</td><td>1</td><td>1</td><td>1</td><td>1</td><td>2</td><td>1</td><td>2</td></tr><tr><th>4</th><td>2</td><td>1</td><td>1</td><td>1</td><td>2</td><td>2</td><td>1</td><td>2</td></tr><tr><th>5</th><td>2</td><td>1</td><td>1</td><td>1</td><td>1</td><td>1</td><td>1</td><td>1</td></tr><tr><th>6</th><td>2</td><td>3</td><td>1</td><td>1</td><td>1</td><td>1</td><td>1</td><td>1</td></tr><tr><th>7</th><td>3</td><td>1</td><td>1</td><td>1</td><td>2</td><td>1</td><td>1</td><td>1</td></tr><tr><th>8</th><td>1</td><td>1</td><td>1</td><td>1</td><td>1</td><td>1</td><td>2</td><td>1</td></tr><tr><th>9</th><td>2</td><td>1</td><td>1</td><td>2</td><td>1</td><td>2</td><td>1</td><td>2</td></tr><tr><th>10</th><td>1</td><td>2</td><td>1</td><td>1</td><td>3</td><td>2</td><td>1</td><td>2</td></tr><tr><th>11</th><td>1</td><td>1</td><td>1</td><td>1</td><td>1</td><td>2</td><td>1</td><td>2</td></tr><tr><th>12</th><td>3</td><td>1</td><td>1</td><td>1</td><td>2</td><td>2</td><td>1</td><td>2</td></tr><tr><th>13</th><td>1</td><td>1</td><td>1</td><td>1</td><td>1</td><td>1</td><td>1</td><td>1</td></tr><tr><th>14</th><td>2</td><td>1</td><td>1</td><td>3</td><td>1</td><td>1</td><td>1</td><td>1</td></tr><tr><th>15</th><td>1</td><td>1</td><td>1</td><td>1</td><td>1</td><td>2</td><td>1</td><td>1</td></tr><tr><th>16</th><td>3</td><td>1</td><td>1</td><td>1</td><td>3</td><td>2</td><td>1</td><td>2</td></tr><tr><th>17</th><td>1</td><td>3</td><td>1</td><td>1</td><td>1</td><td>1</td><td>2</td><td>1</td></tr><tr><th>18</th><td>2</td><td>1</td><td>1</td><td>1</td><td>3</td><td>1</td><td>1</td><td>2</td></tr><tr><th>19</th><td>2</td><td>1</td><td>1</td><td>1</td><td>1</td><td>2</td><td>1</td><td>1</td></tr><tr><th>20</th><td>2</td><td>2</td><td>1</td><td>1</td><td>1</td><td>2</td><td>1</td><td>2</td></tr><tr><th>21</th><td>2</td><td>1</td><td>1</td><td>1</td><td>3</td><td>1</td><td>1</td><td>1</td></tr><tr><th>22</th><td>2</td><td>1</td><td>1</td><td>1</td><td>3</td><td>1</td><td>1</td><td>2</td></tr><tr><th>23</th><td>1</td><td>3</td><td>1</td><td>1</td><td>1</td><td>2</td><td>1</td><td>2</td></tr><tr><th>24</th><td>2</td><td>1</td><td>1</td><td>1</td><td>2</td><td>1</td><td>1</td><td>2</td></tr><tr><th>25</th><td>1</td><td>1</td><td>1</td><td>1</td><td>1</td><td>2</td><td>2</td><td>1</td></tr><tr><th>26</th><td>2</td><td>1</td><td>1</td><td>3</td><td>1</td><td>2</td><td>1</td><td>2</td></tr><tr><th>27</th><td>2</td><td>2</td><td>1</td><td>1</td><td>1</td><td>1</td><td>1</td><td>1</td></tr><tr><th>28</th><td>1</td><td>1</td><td>2</td><td>2</td><td>2</td><td>1</td><td>2</td><td>1</td></tr><tr><th>29</th><td>2</td><td>3</td><td>1</td><td>1</td><td>1</td><td>2</td><td>1</td><td>2</td></tr><tr><th>30</th><td>2</td><td>1</td><td>1</td><td>1</td><td>1</td><td>1</td><td>1</td><td>1</td></tr><tr><th>&vellip;</th><td>&vellip;</td><td>&vellip;</td><td>&vellip;</td><td>&vellip;</td><td>&vellip;</td><td>&vellip;</td><td>&vellip;</td><td>&vellip;</td></tr></tbody></table>"
      ],
      "text/plain": [
       "889×8 DataFrames.DataFrame\n",
       "│ Row │ Age │ Portembarked │ Fare │ NPC │ Class │ Sex │ NS │ Survived │\n",
       "├─────┼─────┼──────────────┼──────┼─────┼───────┼─────┼────┼──────────┤\n",
       "│ 1   │ 1   │ 1            │ 1    │ 1   │ 1     │ 1   │ 1  │ 1        │\n",
       "│ 2   │ 2   │ 2            │ 1    │ 1   │ 2     │ 2   │ 1  │ 2        │\n",
       "│ 3   │ 1   │ 1            │ 1    │ 1   │ 1     │ 2   │ 1  │ 2        │\n",
       "│ 4   │ 2   │ 1            │ 1    │ 1   │ 2     │ 2   │ 1  │ 2        │\n",
       "│ 5   │ 2   │ 1            │ 1    │ 1   │ 1     │ 1   │ 1  │ 1        │\n",
       "│ 6   │ 2   │ 3            │ 1    │ 1   │ 1     │ 1   │ 1  │ 1        │\n",
       "│ 7   │ 3   │ 1            │ 1    │ 1   │ 2     │ 1   │ 1  │ 1        │\n",
       "│ 8   │ 1   │ 1            │ 1    │ 1   │ 1     │ 1   │ 2  │ 1        │\n",
       "│ 9   │ 2   │ 1            │ 1    │ 2   │ 1     │ 2   │ 1  │ 2        │\n",
       "│ 10  │ 1   │ 2            │ 1    │ 1   │ 3     │ 2   │ 1  │ 2        │\n",
       "│ 11  │ 1   │ 1            │ 1    │ 1   │ 1     │ 2   │ 1  │ 2        │\n",
       "⋮\n",
       "│ 878 │ 3   │ 2            │ 1    │ 1   │ 2     │ 2   │ 1  │ 2        │\n",
       "│ 879 │ 1   │ 1            │ 1    │ 1   │ 3     │ 2   │ 1  │ 2        │\n",
       "│ 880 │ 2   │ 1            │ 1    │ 1   │ 1     │ 1   │ 1  │ 1        │\n",
       "│ 881 │ 1   │ 1            │ 1    │ 1   │ 1     │ 2   │ 1  │ 1        │\n",
       "│ 882 │ 2   │ 1            │ 1    │ 1   │ 3     │ 1   │ 1  │ 1        │\n",
       "│ 883 │ 1   │ 1            │ 1    │ 1   │ 1     │ 1   │ 1  │ 1        │\n",
       "│ 884 │ 2   │ 3            │ 1    │ 3   │ 1     │ 2   │ 1  │ 1        │\n",
       "│ 885 │ 2   │ 1            │ 1    │ 1   │ 3     │ 1   │ 1  │ 1        │\n",
       "│ 886 │ 1   │ 1            │ 1    │ 1   │ 2     │ 2   │ 1  │ 2        │\n",
       "│ 887 │ 2   │ 1            │ 1    │ 2   │ 1     │ 2   │ 1  │ 1        │\n",
       "│ 888 │ 1   │ 2            │ 1    │ 1   │ 2     │ 1   │ 1  │ 2        │\n",
       "│ 889 │ 2   │ 3            │ 1    │ 1   │ 1     │ 1   │ 1  │ 1        │"
      ]
     },
     "execution_count": 3,
     "metadata": {},
     "output_type": "execute_result"
    }
   ],
   "source": [
    "titanic_data = DataFrame(\n",
    "    Age = titanic[:age],\n",
    "    Portembarked = titanic[:portembarked],\n",
    "    Fare = titanic[:fare],\n",
    "    NPC = titanic[:numparentschildren],\n",
    "    Class = titanic[:passengerclass],\n",
    "    Sex = titanic[:sex],\n",
    "    NS = titanic[:numsiblings],\n",
    "    Survived = titanic[:survived]\n",
    ")"
   ]
  },
  {
   "cell_type": "code",
   "execution_count": 4,
   "metadata": {},
   "outputs": [
    {
     "data": {
      "text/html": [
       "<table class=\"data-frame\"><thead><tr><th></th><th>Age</th><th>Portembarked</th><th>Fare</th><th>NPC</th><th>Class</th><th>Sex</th><th>NS</th><th>Survived</th></tr></thead><tbody><tr><th>1</th><td>1</td><td>1</td><td>1</td><td>1</td><td>1</td><td>1</td><td>1</td><td>1</td></tr><tr><th>2</th><td>2</td><td>2</td><td>1</td><td>1</td><td>2</td><td>2</td><td>1</td><td>2</td></tr><tr><th>3</th><td>1</td><td>1</td><td>1</td><td>1</td><td>1</td><td>2</td><td>1</td><td>2</td></tr></tbody></table>"
      ],
      "text/plain": [
       "3×8 DataFrames.DataFrame\n",
       "│ Row │ Age │ Portembarked │ Fare │ NPC │ Class │ Sex │ NS │ Survived │\n",
       "├─────┼─────┼──────────────┼──────┼─────┼───────┼─────┼────┼──────────┤\n",
       "│ 1   │ 1   │ 1            │ 1    │ 1   │ 1     │ 1   │ 1  │ 1        │\n",
       "│ 2   │ 2   │ 2            │ 1    │ 1   │ 2     │ 2   │ 1  │ 2        │\n",
       "│ 3   │ 1   │ 1            │ 1    │ 1   │ 1     │ 2   │ 1  │ 2        │"
      ]
     },
     "execution_count": 4,
     "metadata": {},
     "output_type": "execute_result"
    }
   ],
   "source": [
    "titanic_data[1:3,:]"
   ]
  },
  {
   "cell_type": "code",
   "execution_count": 5,
   "metadata": {
    "scrolled": true
   },
   "outputs": [
    {
     "data": {
      "text/html": [
       "<table class=\"data-frame\"><thead><tr><th></th><th>Age</th><th>Portembarked</th><th>Fare</th><th>NPC</th><th>Class</th><th>Sex</th><th>NS</th><th>Survived</th></tr></thead><tbody><tr><th>1</th><td>1</td><td>1</td><td>1</td><td>1</td><td>1</td><td>1</td><td>1</td><td>1</td></tr><tr><th>2</th><td>2</td><td>1</td><td>1</td><td>1</td><td>1</td><td>1</td><td>1</td><td>1</td></tr><tr><th>3</th><td>2</td><td>3</td><td>1</td><td>1</td><td>1</td><td>1</td><td>1</td><td>1</td></tr><tr><th>4</th><td>3</td><td>1</td><td>1</td><td>1</td><td>2</td><td>1</td><td>1</td><td>1</td></tr><tr><th>5</th><td>1</td><td>1</td><td>1</td><td>1</td><td>1</td><td>1</td><td>2</td><td>1</td></tr><tr><th>6</th><td>1</td><td>1</td><td>1</td><td>1</td><td>1</td><td>1</td><td>1</td><td>1</td></tr><tr><th>7</th><td>2</td><td>1</td><td>1</td><td>3</td><td>1</td><td>1</td><td>1</td><td>1</td></tr><tr><th>8</th><td>1</td><td>1</td><td>1</td><td>1</td><td>1</td><td>2</td><td>1</td><td>1</td></tr><tr><th>9</th><td>1</td><td>3</td><td>1</td><td>1</td><td>1</td><td>1</td><td>2</td><td>1</td></tr><tr><th>10</th><td>2</td><td>1</td><td>1</td><td>1</td><td>1</td><td>2</td><td>1</td><td>1</td></tr><tr><th>11</th><td>2</td><td>1</td><td>1</td><td>1</td><td>3</td><td>1</td><td>1</td><td>1</td></tr><tr><th>12</th><td>1</td><td>1</td><td>1</td><td>1</td><td>1</td><td>2</td><td>2</td><td>1</td></tr><tr><th>13</th><td>2</td><td>2</td><td>1</td><td>1</td><td>1</td><td>1</td><td>1</td><td>1</td></tr><tr><th>14</th><td>1</td><td>1</td><td>2</td><td>2</td><td>2</td><td>1</td><td>2</td><td>1</td></tr><tr><th>15</th><td>2</td><td>1</td><td>1</td><td>1</td><td>1</td><td>1</td><td>1</td><td>1</td></tr><tr><th>16</th><td>2</td><td>2</td><td>1</td><td>1</td><td>2</td><td>1</td><td>1</td><td>1</td></tr><tr><th>17</th><td>3</td><td>1</td><td>1</td><td>1</td><td>3</td><td>1</td><td>1</td><td>1</td></tr><tr><th>18</th><td>2</td><td>2</td><td>1</td><td>1</td><td>2</td><td>1</td><td>1</td><td>1</td></tr><tr><th>19</th><td>2</td><td>1</td><td>1</td><td>1</td><td>2</td><td>1</td><td>1</td><td>1</td></tr><tr><th>20</th><td>1</td><td>1</td><td>1</td><td>1</td><td>1</td><td>1</td><td>1</td><td>1</td></tr><tr><th>21</th><td>1</td><td>1</td><td>1</td><td>1</td><td>1</td><td>2</td><td>1</td><td>1</td></tr><tr><th>22</th><td>2</td><td>1</td><td>1</td><td>1</td><td>1</td><td>2</td><td>1</td><td>1</td></tr><tr><th>23</th><td>2</td><td>1</td><td>1</td><td>1</td><td>3</td><td>2</td><td>1</td><td>1</td></tr><tr><th>24</th><td>2</td><td>2</td><td>1</td><td>1</td><td>1</td><td>1</td><td>1</td><td>1</td></tr><tr><th>25</th><td>2</td><td>1</td><td>1</td><td>1</td><td>1</td><td>1</td><td>1</td><td>1</td></tr><tr><th>26</th><td>2</td><td>3</td><td>1</td><td>1</td><td>1</td><td>1</td><td>1</td><td>1</td></tr><tr><th>27</th><td>2</td><td>2</td><td>1</td><td>1</td><td>1</td><td>1</td><td>1</td><td>1</td></tr><tr><th>28</th><td>1</td><td>1</td><td>1</td><td>1</td><td>1</td><td>2</td><td>1</td><td>1</td></tr><tr><th>29</th><td>1</td><td>1</td><td>1</td><td>1</td><td>1</td><td>1</td><td>2</td><td>1</td></tr><tr><th>30</th><td>1</td><td>1</td><td>1</td><td>1</td><td>1</td><td>1</td><td>1</td><td>1</td></tr><tr><th>&vellip;</th><td>&vellip;</td><td>&vellip;</td><td>&vellip;</td><td>&vellip;</td><td>&vellip;</td><td>&vellip;</td><td>&vellip;</td><td>&vellip;</td></tr></tbody></table>"
      ],
      "text/plain": [
       "889×8 DataFrames.DataFrame\n",
       "│ Row │ Age │ Portembarked │ Fare │ NPC │ Class │ Sex │ NS │ Survived │\n",
       "├─────┼─────┼──────────────┼──────┼─────┼───────┼─────┼────┼──────────┤\n",
       "│ 1   │ 1   │ 1            │ 1    │ 1   │ 1     │ 1   │ 1  │ 1        │\n",
       "│ 2   │ 2   │ 1            │ 1    │ 1   │ 1     │ 1   │ 1  │ 1        │\n",
       "│ 3   │ 2   │ 3            │ 1    │ 1   │ 1     │ 1   │ 1  │ 1        │\n",
       "│ 4   │ 3   │ 1            │ 1    │ 1   │ 2     │ 1   │ 1  │ 1        │\n",
       "│ 5   │ 1   │ 1            │ 1    │ 1   │ 1     │ 1   │ 2  │ 1        │\n",
       "│ 6   │ 1   │ 1            │ 1    │ 1   │ 1     │ 1   │ 1  │ 1        │\n",
       "│ 7   │ 2   │ 1            │ 1    │ 3   │ 1     │ 1   │ 1  │ 1        │\n",
       "│ 8   │ 1   │ 1            │ 1    │ 1   │ 1     │ 2   │ 1  │ 1        │\n",
       "│ 9   │ 1   │ 3            │ 1    │ 1   │ 1     │ 1   │ 2  │ 1        │\n",
       "│ 10  │ 2   │ 1            │ 1    │ 1   │ 1     │ 2   │ 1  │ 1        │\n",
       "│ 11  │ 2   │ 1            │ 1    │ 1   │ 3     │ 1   │ 1  │ 1        │\n",
       "⋮\n",
       "│ 878 │ 1   │ 2            │ 1    │ 2   │ 1     │ 2   │ 1  │ 2        │\n",
       "│ 879 │ 2   │ 1            │ 1    │ 1   │ 2     │ 2   │ 1  │ 2        │\n",
       "│ 880 │ 2   │ 1            │ 1    │ 1   │ 3     │ 2   │ 1  │ 2        │\n",
       "│ 881 │ 2   │ 2            │ 1    │ 1   │ 3     │ 2   │ 1  │ 2        │\n",
       "│ 882 │ 1   │ 1            │ 1    │ 1   │ 1     │ 1   │ 1  │ 2        │\n",
       "│ 883 │ 2   │ 1            │ 1    │ 1   │ 2     │ 2   │ 1  │ 2        │\n",
       "│ 884 │ 2   │ 2            │ 1    │ 1   │ 3     │ 2   │ 1  │ 2        │\n",
       "│ 885 │ 1   │ 2            │ 1    │ 1   │ 1     │ 2   │ 1  │ 2        │\n",
       "│ 886 │ 3   │ 2            │ 1    │ 1   │ 2     │ 2   │ 1  │ 2        │\n",
       "│ 887 │ 1   │ 1            │ 1    │ 1   │ 3     │ 2   │ 1  │ 2        │\n",
       "│ 888 │ 1   │ 1            │ 1    │ 1   │ 2     │ 2   │ 1  │ 2        │\n",
       "│ 889 │ 1   │ 2            │ 1    │ 1   │ 2     │ 1   │ 1  │ 2        │"
      ]
     },
     "execution_count": 5,
     "metadata": {},
     "output_type": "execute_result"
    }
   ],
   "source": [
    "sort!(titanic_data, cols=:Survived)"
   ]
  },
  {
   "cell_type": "code",
   "execution_count": 6,
   "metadata": {},
   "outputs": [
    {
     "data": {
      "text/plain": [
       "2-element Array{Int64,1}:\n",
       " 549\n",
       " 340"
      ]
     },
     "execution_count": 6,
     "metadata": {},
     "output_type": "execute_result"
    }
   ],
   "source": [
    "counts(titanic_data[:Survived])"
   ]
  },
  {
   "cell_type": "code",
   "execution_count": 7,
   "metadata": {},
   "outputs": [
    {
     "data": {
      "text/plain": [
       "3-element Array{Int64,1}:\n",
       " 794\n",
       "  85\n",
       "  10"
      ]
     },
     "execution_count": 7,
     "metadata": {},
     "output_type": "execute_result"
    }
   ],
   "source": [
    "counts(titanic_data[:NPC])"
   ]
  },
  {
   "cell_type": "code",
   "execution_count": 8,
   "metadata": {
    "scrolled": true
   },
   "outputs": [
    {
     "name": "stderr",
     "output_type": "stream",
     "text": [
      "\u001b[1m\u001b[33mWARNING: \u001b[39m\u001b[22m\u001b[33mArray{T}(::Type{T}, m::Int) is deprecated, use Array{T}(m) instead.\u001b[39m\n",
      "Stacktrace:\n",
      " [1] \u001b[1mdepwarn\u001b[22m\u001b[22m\u001b[1m(\u001b[22m\u001b[22m::String, ::Symbol\u001b[1m)\u001b[22m\u001b[22m at \u001b[1m./deprecated.jl:70\u001b[22m\u001b[22m\n",
      " [2] \u001b[1mArray\u001b[22m\u001b[22m\u001b[1m(\u001b[22m\u001b[22m::Type{BayesNets.CPDs.CPD}, ::Int64\u001b[1m)\u001b[22m\u001b[22m at \u001b[1m./deprecated.jl:57\u001b[22m\u001b[22m\n",
      " [3] \u001b[1mfit\u001b[22m\u001b[22m\u001b[1m(\u001b[22m\u001b[22m::Type{BayesNets.BayesNet{BayesNets.CPDs.CPD}}, ::DataFrames.DataFrame, ::BayesNets.K2GraphSearch\u001b[1m)\u001b[22m\u001b[22m at \u001b[1m/Users/siyu/.julia/v0.6/BayesNets/src/learning.jl:232\u001b[22m\u001b[22m\n",
      " [4] \u001b[1mfit\u001b[22m\u001b[22m\u001b[1m(\u001b[22m\u001b[22m::Type{BayesNets.BayesNet}, ::DataFrames.DataFrame, ::BayesNets.K2GraphSearch\u001b[1m)\u001b[22m\u001b[22m at \u001b[1m/Users/siyu/.julia/v0.6/BayesNets/src/learning.jl:257\u001b[22m\u001b[22m\n",
      " [5] \u001b[1minclude_string\u001b[22m\u001b[22m\u001b[1m(\u001b[22m\u001b[22m::String, ::String\u001b[1m)\u001b[22m\u001b[22m at \u001b[1m./loading.jl:515\u001b[22m\u001b[22m\n",
      " [6] \u001b[1mexecute_request\u001b[22m\u001b[22m\u001b[1m(\u001b[22m\u001b[22m::ZMQ.Socket, ::IJulia.Msg\u001b[1m)\u001b[22m\u001b[22m at \u001b[1m/Users/siyu/.julia/v0.6/IJulia/src/execute_request.jl:160\u001b[22m\u001b[22m\n",
      " [7] \u001b[1meventloop\u001b[22m\u001b[22m\u001b[1m(\u001b[22m\u001b[22m::ZMQ.Socket\u001b[1m)\u001b[22m\u001b[22m at \u001b[1m/Users/siyu/.julia/v0.6/IJulia/src/eventloop.jl:8\u001b[22m\u001b[22m\n",
      " [8] \u001b[1m(::IJulia.##11#14)\u001b[22m\u001b[22m\u001b[1m(\u001b[22m\u001b[22m\u001b[1m)\u001b[22m\u001b[22m at \u001b[1m./task.jl:335\u001b[22m\u001b[22m\n",
      "while loading In[8], in expression starting on line 4\n",
      "\u001b[1m\u001b[33mWARNING: \u001b[39m\u001b[22m\u001b[33mArray{T}(::Type{T}, m::Int, n::Int) is deprecated, use Array{T}(m, n) instead.\u001b[39m\n",
      "Stacktrace:\n",
      " [1] \u001b[1mdepwarn\u001b[22m\u001b[22m\u001b[1m(\u001b[22m\u001b[22m::String, ::Symbol\u001b[1m)\u001b[22m\u001b[22m at \u001b[1m./deprecated.jl:70\u001b[22m\u001b[22m\n",
      " [2] \u001b[1mArray\u001b[22m\u001b[22m\u001b[1m(\u001b[22m\u001b[22m::Type{Float64}, ::Int64, ::Int64\u001b[1m)\u001b[22m\u001b[22m at \u001b[1m./deprecated.jl:57\u001b[22m\u001b[22m\n",
      " [3] \u001b[1m#fit#20\u001b[22m\u001b[22m\u001b[1m(\u001b[22m\u001b[22m::Float64, ::Function, ::Type{BayesNets.CPDs.LinearGaussianCPD}, ::DataFrames.DataFrame, ::Symbol, ::Array{Symbol,1}\u001b[1m)\u001b[22m\u001b[22m at \u001b[1m/Users/siyu/.julia/v0.6/BayesNets/src/CPDs/linear_gaussian_cpd.jl:67\u001b[22m\u001b[22m\n",
      " [4] \u001b[1mfit\u001b[22m\u001b[22m\u001b[1m(\u001b[22m\u001b[22m::Type{BayesNets.CPDs.LinearGaussianCPD}, ::DataFrames.DataFrame, ::Symbol, ::Array{Symbol,1}\u001b[1m)\u001b[22m\u001b[22m at \u001b[1m/Users/siyu/.julia/v0.6/BayesNets/src/CPDs/linear_gaussian_cpd.jl:57\u001b[22m\u001b[22m\n",
      " [5] \u001b[1mfit\u001b[22m\u001b[22m\u001b[1m(\u001b[22m\u001b[22m::Type{BayesNets.BayesNet{BayesNets.CPDs.CPD}}, ::DataFrames.DataFrame, ::BayesNets.K2GraphSearch\u001b[1m)\u001b[22m\u001b[22m at \u001b[1m/Users/siyu/.julia/v0.6/BayesNets/src/learning.jl:244\u001b[22m\u001b[22m\n",
      " [6] \u001b[1mfit\u001b[22m\u001b[22m\u001b[1m(\u001b[22m\u001b[22m::Type{BayesNets.BayesNet}, ::DataFrames.DataFrame, ::BayesNets.K2GraphSearch\u001b[1m)\u001b[22m\u001b[22m at \u001b[1m/Users/siyu/.julia/v0.6/BayesNets/src/learning.jl:257\u001b[22m\u001b[22m\n",
      " [7] \u001b[1minclude_string\u001b[22m\u001b[22m\u001b[1m(\u001b[22m\u001b[22m::String, ::String\u001b[1m)\u001b[22m\u001b[22m at \u001b[1m./loading.jl:515\u001b[22m\u001b[22m\n",
      " [8] \u001b[1mexecute_request\u001b[22m\u001b[22m\u001b[1m(\u001b[22m\u001b[22m::ZMQ.Socket, ::IJulia.Msg\u001b[1m)\u001b[22m\u001b[22m at \u001b[1m/Users/siyu/.julia/v0.6/IJulia/src/execute_request.jl:160\u001b[22m\u001b[22m\n",
      " [9] \u001b[1meventloop\u001b[22m\u001b[22m\u001b[1m(\u001b[22m\u001b[22m::ZMQ.Socket\u001b[1m)\u001b[22m\u001b[22m at \u001b[1m/Users/siyu/.julia/v0.6/IJulia/src/eventloop.jl:8\u001b[22m\u001b[22m\n",
      " [10] \u001b[1m(::IJulia.##11#14)\u001b[22m\u001b[22m\u001b[1m(\u001b[22m\u001b[22m\u001b[1m)\u001b[22m\u001b[22m at \u001b[1m./task.jl:335\u001b[22m\u001b[22m\n",
      "while loading In[8], in expression starting on line 4\n",
      "\u001b[1m\u001b[33mWARNING: \u001b[39m\u001b[22m\u001b[33mArray{T}(::Type{T}, m::Int) is deprecated, use Array{T}(m) instead.\u001b[39m\n",
      "Stacktrace:\n",
      " [1] \u001b[1mdepwarn\u001b[22m\u001b[22m\u001b[1m(\u001b[22m\u001b[22m::String, ::Symbol\u001b[1m)\u001b[22m\u001b[22m at \u001b[1m./deprecated.jl:70\u001b[22m\u001b[22m\n",
      " [2] \u001b[1mArray\u001b[22m\u001b[22m\u001b[1m(\u001b[22m\u001b[22m::Type{BayesNets.CPDs.CPD}, ::Int64\u001b[1m)\u001b[22m\u001b[22m at \u001b[1m./deprecated.jl:57\u001b[22m\u001b[22m\n",
      " [3] \u001b[1m_enforce_topological_order\u001b[22m\u001b[22m\u001b[1m(\u001b[22m\u001b[22m::LightGraphs.SimpleGraphs.SimpleDiGraph{Int64}, ::Array{BayesNets.CPDs.CPD,1}, ::Dict{Symbol,Int64}\u001b[1m)\u001b[22m\u001b[22m at \u001b[1m/Users/siyu/.julia/v0.6/BayesNets/src/bayes_nets.jl:34\u001b[22m\u001b[22m\n",
      " [4] \u001b[1mBayesNets.BayesNet\u001b[22m\u001b[22m\u001b[1m(\u001b[22m\u001b[22m::Array{BayesNets.CPDs.CPD,1}\u001b[1m)\u001b[22m\u001b[22m at \u001b[1m/Users/siyu/.julia/v0.6/BayesNets/src/bayes_nets.jl:68\u001b[22m\u001b[22m\n",
      " [5] \u001b[1mfit\u001b[22m\u001b[22m\u001b[1m(\u001b[22m\u001b[22m::Type{BayesNets.BayesNet{BayesNets.CPDs.CPD}}, ::DataFrames.DataFrame, ::BayesNets.K2GraphSearch\u001b[1m)\u001b[22m\u001b[22m at \u001b[1m/Users/siyu/.julia/v0.6/BayesNets/src/learning.jl:255\u001b[22m\u001b[22m\n",
      " [6] \u001b[1mfit\u001b[22m\u001b[22m\u001b[1m(\u001b[22m\u001b[22m::Type{BayesNets.BayesNet}, ::DataFrames.DataFrame, ::BayesNets.K2GraphSearch\u001b[1m)\u001b[22m\u001b[22m at \u001b[1m/Users/siyu/.julia/v0.6/BayesNets/src/learning.jl:257\u001b[22m\u001b[22m\n",
      " [7] \u001b[1minclude_string\u001b[22m\u001b[22m\u001b[1m(\u001b[22m\u001b[22m::String, ::String\u001b[1m)\u001b[22m\u001b[22m at \u001b[1m./loading.jl:515\u001b[22m\u001b[22m\n",
      " [8] \u001b[1mexecute_request\u001b[22m\u001b[22m\u001b[1m(\u001b[22m\u001b[22m::ZMQ.Socket, ::IJulia.Msg\u001b[1m)\u001b[22m\u001b[22m at \u001b[1m/Users/siyu/.julia/v0.6/IJulia/src/execute_request.jl:160\u001b[22m\u001b[22m\n",
      " [9] \u001b[1meventloop\u001b[22m\u001b[22m\u001b[1m(\u001b[22m\u001b[22m::ZMQ.Socket\u001b[1m)\u001b[22m\u001b[22m at \u001b[1m/Users/siyu/.julia/v0.6/IJulia/src/eventloop.jl:8\u001b[22m\u001b[22m\n",
      " [10] \u001b[1m(::IJulia.##11#14)\u001b[22m\u001b[22m\u001b[1m(\u001b[22m\u001b[22m\u001b[1m)\u001b[22m\u001b[22m at \u001b[1m./task.jl:335\u001b[22m\u001b[22m\n",
      "while loading In[8], in expression starting on line 4\n",
      "\u001b[1m\u001b[33mWARNING: \u001b[39m\u001b[22m\u001b[33mArray{T}(::Type{T}, m::Int) is deprecated, use Array{T}(m) instead.\u001b[39m\n",
      "Stacktrace:\n",
      " [1] \u001b[1mdepwarn\u001b[22m\u001b[22m\u001b[1m(\u001b[22m\u001b[22m::String, ::Symbol\u001b[1m)\u001b[22m\u001b[22m at \u001b[1m./deprecated.jl:70\u001b[22m\u001b[22m\n",
      " [2] \u001b[1mArray\u001b[22m\u001b[22m\u001b[1m(\u001b[22m\u001b[22m::Type{Symbol}, ::Int64\u001b[1m)\u001b[22m\u001b[22m at \u001b[1m./deprecated.jl:57\u001b[22m\u001b[22m\n",
      " [3] \u001b[1mnames\u001b[22m\u001b[22m\u001b[1m(\u001b[22m\u001b[22m::BayesNets.BayesNet{BayesNets.CPDs.CPD}\u001b[1m)\u001b[22m\u001b[22m at \u001b[1m/Users/siyu/.julia/v0.6/BayesNets/src/bayes_nets.jl:81\u001b[22m\u001b[22m\n",
      " [4] \u001b[1mplot\u001b[22m\u001b[22m\u001b[1m(\u001b[22m\u001b[22m::BayesNets.BayesNet{BayesNets.CPDs.CPD}\u001b[1m)\u001b[22m\u001b[22m at \u001b[1m/Users/siyu/.julia/v0.6/BayesNets/src/io.jl:5\u001b[22m\u001b[22m\n",
      " [5] \u001b[1mlimitstringmime\u001b[22m\u001b[22m\u001b[1m(\u001b[22m\u001b[22m::MIME{Symbol(\"image/svg+xml\")}, ::BayesNets.BayesNet{BayesNets.CPDs.CPD}\u001b[1m)\u001b[22m\u001b[22m at \u001b[1m/Users/siyu/.julia/v0.6/IJulia/src/inline.jl:25\u001b[22m\u001b[22m\n",
      " [6] \u001b[1mdisplay_dict\u001b[22m\u001b[22m\u001b[1m(\u001b[22m\u001b[22m::BayesNets.BayesNet{BayesNets.CPDs.CPD}\u001b[1m)\u001b[22m\u001b[22m at \u001b[1m/Users/siyu/.julia/v0.6/IJulia/src/execute_request.jl:29\u001b[22m\u001b[22m\n",
      " [7] \u001b[1mexecute_request\u001b[22m\u001b[22m\u001b[1m(\u001b[22m\u001b[22m::ZMQ.Socket, ::IJulia.Msg\u001b[1m)\u001b[22m\u001b[22m at \u001b[1m/Users/siyu/.julia/v0.6/IJulia/src/execute_request.jl:188\u001b[22m\u001b[22m\n",
      " [8] \u001b[1meventloop\u001b[22m\u001b[22m\u001b[1m(\u001b[22m\u001b[22m::ZMQ.Socket\u001b[1m)\u001b[22m\u001b[22m at \u001b[1m/Users/siyu/.julia/v0.6/IJulia/src/eventloop.jl:8\u001b[22m\u001b[22m\n",
      " [9] \u001b[1m(::IJulia.##11#14)\u001b[22m\u001b[22m\u001b[1m(\u001b[22m\u001b[22m\u001b[1m)\u001b[22m\u001b[22m at \u001b[1m./task.jl:335\u001b[22m\u001b[22m\n",
      "while loading /Users/siyu/.julia/v0.6/IJulia/src/kernel.jl, in expression starting on line 31\n"
     ]
    },
    {
     "data": {
      "image/svg+xml": [
       "<?xml version=\"1.0\" encoding=\"UTF-8\"?>\n",
       "<svg xmlns=\"http://www.w3.org/2000/svg\" xmlns:xlink=\"http://www.w3.org/1999/xlink\" width=\"107.576pt\" height=\"99.895pt\" viewBox=\"0 0 107.576 99.895\" version=\"1.1\">\n",
       "<defs>\n",
       "<g>\n",
       "<symbol overflow=\"visible\" id=\"glyph-1500018270689685-0-0\">\n",
       "<path style=\"stroke:none;\" d=\"\"/>\n",
       "</symbol>\n",
       "<symbol overflow=\"visible\" id=\"glyph-1500018270689685-0-1\">\n",
       "<path style=\"stroke:none;\" d=\"M 6.078125 -4.53125 L 5.796875 -6.78125 L 0.328125 -6.78125 L 0.328125 -6.46875 L 0.5625 -6.46875 C 1.328125 -6.46875 1.359375 -6.359375 1.359375 -6 L 1.359375 -0.78125 C 1.359375 -0.421875 1.328125 -0.3125 0.5625 -0.3125 L 0.328125 -0.3125 L 0.328125 0 C 0.671875 -0.03125 1.453125 -0.03125 1.84375 -0.03125 C 2.25 -0.03125 3.15625 -0.03125 3.515625 0 L 3.515625 -0.3125 L 3.1875 -0.3125 C 2.25 -0.3125 2.25 -0.4375 2.25 -0.78125 L 2.25 -3.234375 L 3.09375 -3.234375 C 4.0625 -3.234375 4.15625 -2.921875 4.15625 -2.078125 L 4.40625 -2.078125 L 4.40625 -4.71875 L 4.15625 -4.71875 C 4.15625 -3.875 4.0625 -3.546875 3.09375 -3.546875 L 2.25 -3.546875 L 2.25 -6.078125 C 2.25 -6.40625 2.265625 -6.46875 2.734375 -6.46875 L 3.921875 -6.46875 C 5.421875 -6.46875 5.671875 -5.90625 5.828125 -4.53125 Z M 6.078125 -4.53125 \"/>\n",
       "</symbol>\n",
       "<symbol overflow=\"visible\" id=\"glyph-1500018270689685-0-2\">\n",
       "<path style=\"stroke:none;\" d=\"M 4.8125 -0.890625 L 4.8125 -1.453125 L 4.5625 -1.453125 L 4.5625 -0.890625 C 4.5625 -0.3125 4.3125 -0.25 4.203125 -0.25 C 3.875 -0.25 3.84375 -0.703125 3.84375 -0.75 L 3.84375 -2.734375 C 3.84375 -3.15625 3.84375 -3.546875 3.484375 -3.921875 C 3.09375 -4.3125 2.59375 -4.46875 2.109375 -4.46875 C 1.296875 -4.46875 0.609375 -4 0.609375 -3.34375 C 0.609375 -3.046875 0.8125 -2.875 1.0625 -2.875 C 1.34375 -2.875 1.53125 -3.078125 1.53125 -3.328125 C 1.53125 -3.453125 1.46875 -3.78125 1.015625 -3.78125 C 1.28125 -4.140625 1.78125 -4.25 2.09375 -4.25 C 2.578125 -4.25 3.15625 -3.859375 3.15625 -2.96875 L 3.15625 -2.609375 C 2.640625 -2.578125 1.9375 -2.546875 1.3125 -2.25 C 0.5625 -1.90625 0.3125 -1.390625 0.3125 -0.953125 C 0.3125 -0.140625 1.28125 0.109375 1.90625 0.109375 C 2.578125 0.109375 3.03125 -0.296875 3.21875 -0.75 C 3.265625 -0.359375 3.53125 0.0625 4 0.0625 C 4.203125 0.0625 4.8125 -0.078125 4.8125 -0.890625 Z M 3.15625 -1.390625 C 3.15625 -0.453125 2.4375 -0.109375 1.984375 -0.109375 C 1.5 -0.109375 1.09375 -0.453125 1.09375 -0.953125 C 1.09375 -1.5 1.5 -2.328125 3.15625 -2.390625 Z M 3.15625 -1.390625 \"/>\n",
       "</symbol>\n",
       "<symbol overflow=\"visible\" id=\"glyph-1500018270689685-0-3\">\n",
       "<path style=\"stroke:none;\" d=\"M 3.625 -3.796875 C 3.625 -4.109375 3.3125 -4.40625 2.890625 -4.40625 C 2.15625 -4.40625 1.796875 -3.734375 1.671875 -3.3125 L 1.671875 -4.40625 L 0.28125 -4.296875 L 0.28125 -3.984375 C 0.984375 -3.984375 1.0625 -3.921875 1.0625 -3.421875 L 1.0625 -0.75 C 1.0625 -0.3125 0.953125 -0.3125 0.28125 -0.3125 L 0.28125 0 L 1.421875 -0.03125 C 1.8125 -0.03125 2.28125 -0.03125 2.6875 0 L 2.6875 -0.3125 L 2.46875 -0.3125 C 1.734375 -0.3125 1.71875 -0.421875 1.71875 -0.78125 L 1.71875 -2.3125 C 1.71875 -3.296875 2.140625 -4.1875 2.890625 -4.1875 C 2.953125 -4.1875 2.984375 -4.1875 3 -4.171875 C 2.96875 -4.171875 2.765625 -4.046875 2.765625 -3.78125 C 2.765625 -3.515625 2.984375 -3.359375 3.203125 -3.359375 C 3.375 -3.359375 3.625 -3.484375 3.625 -3.796875 Z M 3.625 -3.796875 \"/>\n",
       "</symbol>\n",
       "<symbol overflow=\"visible\" id=\"glyph-1500018270689685-0-4\">\n",
       "<path style=\"stroke:none;\" d=\"M 4.140625 -1.1875 C 4.140625 -1.28125 4.0625 -1.3125 4 -1.3125 C 3.921875 -1.3125 3.890625 -1.25 3.875 -1.171875 C 3.53125 -0.140625 2.625 -0.140625 2.53125 -0.140625 C 2.03125 -0.140625 1.640625 -0.4375 1.40625 -0.8125 C 1.109375 -1.28125 1.109375 -1.9375 1.109375 -2.296875 L 3.890625 -2.296875 C 4.109375 -2.296875 4.140625 -2.296875 4.140625 -2.515625 C 4.140625 -3.5 3.59375 -4.46875 2.359375 -4.46875 C 1.203125 -4.46875 0.28125 -3.4375 0.28125 -2.1875 C 0.28125 -0.859375 1.328125 0.109375 2.46875 0.109375 C 3.6875 0.109375 4.140625 -1 4.140625 -1.1875 Z M 3.484375 -2.515625 L 1.109375 -2.515625 C 1.171875 -4 2.015625 -4.25 2.359375 -4.25 C 3.375 -4.25 3.484375 -2.90625 3.484375 -2.515625 Z M 3.484375 -2.515625 \"/>\n",
       "</symbol>\n",
       "<symbol overflow=\"visible\" id=\"glyph-1500018270689685-0-5\">\n",
       "<path style=\"stroke:none;\" d=\"M 7.140625 0 L 7.140625 -0.3125 L 6.96875 -0.3125 C 6.375 -0.3125 6.234375 -0.375 6.125 -0.703125 L 3.96875 -6.9375 C 3.921875 -7.0625 3.890625 -7.140625 3.734375 -7.140625 C 3.578125 -7.140625 3.546875 -7.078125 3.5 -6.9375 L 1.4375 -0.984375 C 1.25 -0.46875 0.859375 -0.3125 0.3125 -0.3125 L 0.3125 0 L 1.328125 -0.03125 L 2.484375 0 L 2.484375 -0.3125 C 1.984375 -0.3125 1.734375 -0.5625 1.734375 -0.8125 C 1.734375 -0.84375 1.75 -0.953125 1.75 -0.96875 L 2.21875 -2.265625 L 4.671875 -2.265625 L 5.203125 -0.75 C 5.21875 -0.703125 5.234375 -0.640625 5.234375 -0.609375 C 5.234375 -0.3125 4.671875 -0.3125 4.40625 -0.3125 L 4.40625 0 C 4.765625 -0.03125 5.46875 -0.03125 5.84375 -0.03125 Z M 4.5625 -2.578125 L 2.328125 -2.578125 L 3.4375 -5.828125 Z M 4.5625 -2.578125 \"/>\n",
       "</symbol>\n",
       "<symbol overflow=\"visible\" id=\"glyph-1500018270689685-0-6\">\n",
       "<path style=\"stroke:none;\" d=\"M 4.828125 -4.03125 C 4.828125 -4.203125 4.71875 -4.515625 4.328125 -4.515625 C 4.125 -4.515625 3.6875 -4.453125 3.265625 -4.046875 C 2.84375 -4.375 2.4375 -4.40625 2.21875 -4.40625 C 1.28125 -4.40625 0.59375 -3.71875 0.59375 -2.953125 C 0.59375 -2.515625 0.8125 -2.140625 1.0625 -1.921875 C 0.9375 -1.78125 0.75 -1.453125 0.75 -1.09375 C 0.75 -0.78125 0.890625 -0.40625 1.203125 -0.203125 C 0.59375 -0.046875 0.28125 0.390625 0.28125 0.78125 C 0.28125 1.5 1.265625 2.046875 2.484375 2.046875 C 3.65625 2.046875 4.6875 1.546875 4.6875 0.765625 C 4.6875 0.421875 4.5625 -0.09375 4.046875 -0.375 C 3.515625 -0.640625 2.9375 -0.640625 2.328125 -0.640625 C 2.078125 -0.640625 1.65625 -0.640625 1.578125 -0.65625 C 1.265625 -0.703125 1.0625 -1 1.0625 -1.328125 C 1.0625 -1.359375 1.0625 -1.59375 1.21875 -1.796875 C 1.609375 -1.515625 2.03125 -1.484375 2.21875 -1.484375 C 3.140625 -1.484375 3.828125 -2.171875 3.828125 -2.9375 C 3.828125 -3.3125 3.671875 -3.671875 3.421875 -3.90625 C 3.78125 -4.25 4.140625 -4.296875 4.3125 -4.296875 C 4.3125 -4.296875 4.390625 -4.296875 4.421875 -4.28125 C 4.3125 -4.25 4.25 -4.140625 4.25 -4.015625 C 4.25 -3.84375 4.390625 -3.734375 4.546875 -3.734375 C 4.640625 -3.734375 4.828125 -3.796875 4.828125 -4.03125 Z M 3.078125 -2.953125 C 3.078125 -2.6875 3.078125 -2.359375 2.921875 -2.109375 C 2.84375 -2 2.609375 -1.71875 2.21875 -1.71875 C 1.34375 -1.71875 1.34375 -2.71875 1.34375 -2.9375 C 1.34375 -3.203125 1.359375 -3.53125 1.5 -3.78125 C 1.578125 -3.890625 1.8125 -4.171875 2.21875 -4.171875 C 3.078125 -4.171875 3.078125 -3.1875 3.078125 -2.953125 Z M 4.171875 0.78125 C 4.171875 1.328125 3.46875 1.828125 2.5 1.828125 C 1.484375 1.828125 0.796875 1.3125 0.796875 0.78125 C 0.796875 0.328125 1.171875 -0.046875 1.609375 -0.0625 L 2.203125 -0.0625 C 3.0625 -0.0625 4.171875 -0.0625 4.171875 0.78125 Z M 4.171875 0.78125 \"/>\n",
       "</symbol>\n",
       "<symbol overflow=\"visible\" id=\"glyph-1500018270689685-0-7\">\n",
       "<path style=\"stroke:none;\" d=\"M 7.140625 -6.5 L 7.140625 -6.8125 L 5.96875 -6.78125 L 4.8125 -6.8125 L 4.8125 -6.5 C 5.828125 -6.5 5.828125 -6.03125 5.828125 -5.765625 L 5.828125 -1.5 L 2.3125 -6.671875 C 2.21875 -6.796875 2.21875 -6.8125 2.03125 -6.8125 L 0.328125 -6.8125 L 0.328125 -6.5 L 0.625 -6.5 C 0.765625 -6.5 0.96875 -6.484375 1.109375 -6.484375 C 1.34375 -6.453125 1.359375 -6.4375 1.359375 -6.25 L 1.359375 -1.046875 C 1.359375 -0.78125 1.359375 -0.3125 0.328125 -0.3125 L 0.328125 0 L 1.5 -0.03125 L 2.65625 0 L 2.65625 -0.3125 C 1.640625 -0.3125 1.640625 -0.78125 1.640625 -1.046875 L 1.640625 -6.234375 C 1.6875 -6.1875 1.6875 -6.171875 1.734375 -6.109375 L 5.796875 -0.125 C 5.890625 -0.015625 5.90625 0 5.96875 0 C 6.109375 0 6.109375 -0.0625 6.109375 -0.265625 L 6.109375 -5.765625 C 6.109375 -6.03125 6.109375 -6.5 7.140625 -6.5 Z M 7.140625 -6.5 \"/>\n",
       "</symbol>\n",
       "<symbol overflow=\"visible\" id=\"glyph-1500018270689685-0-8\">\n",
       "<path style=\"stroke:none;\" d=\"M 6.21875 -4.953125 C 6.21875 -5.9375 5.234375 -6.8125 3.875 -6.8125 L 0.34375 -6.8125 L 0.34375 -6.5 L 0.59375 -6.5 C 1.359375 -6.5 1.375 -6.390625 1.375 -6.03125 L 1.375 -0.78125 C 1.375 -0.421875 1.359375 -0.3125 0.59375 -0.3125 L 0.34375 -0.3125 L 0.34375 0 C 0.703125 -0.03125 1.4375 -0.03125 1.8125 -0.03125 C 2.1875 -0.03125 2.9375 -0.03125 3.296875 0 L 3.296875 -0.3125 L 3.046875 -0.3125 C 2.28125 -0.3125 2.265625 -0.421875 2.265625 -0.78125 L 2.265625 -3.15625 L 3.953125 -3.15625 C 5.140625 -3.15625 6.21875 -3.953125 6.21875 -4.953125 Z M 5.1875 -4.953125 C 5.1875 -4.484375 5.1875 -3.40625 3.609375 -3.40625 L 2.234375 -3.40625 L 2.234375 -6.09375 C 2.234375 -6.4375 2.25 -6.5 2.71875 -6.5 L 3.609375 -6.5 C 5.1875 -6.5 5.1875 -5.4375 5.1875 -4.953125 Z M 5.1875 -4.953125 \"/>\n",
       "</symbol>\n",
       "<symbol overflow=\"visible\" id=\"glyph-1500018270689685-0-9\">\n",
       "<path style=\"stroke:none;\" d=\"M 6.625 -2.328125 C 6.625 -2.421875 6.625 -2.5 6.5 -2.5 C 6.390625 -2.5 6.390625 -2.4375 6.375 -2.328125 C 6.296875 -0.90625 5.234375 -0.09375 4.140625 -0.09375 C 3.53125 -0.09375 1.578125 -0.421875 1.578125 -3.40625 C 1.578125 -6.375 3.53125 -6.71875 4.140625 -6.71875 C 5.21875 -6.71875 6.109375 -5.8125 6.3125 -4.359375 C 6.328125 -4.21875 6.328125 -4.1875 6.46875 -4.1875 C 6.625 -4.1875 6.625 -4.21875 6.625 -4.421875 L 6.625 -6.78125 C 6.625 -6.953125 6.625 -7.03125 6.515625 -7.03125 C 6.484375 -7.03125 6.4375 -7.03125 6.359375 -6.90625 L 5.859375 -6.171875 C 5.5 -6.53125 4.984375 -7.03125 4.03125 -7.03125 C 2.15625 -7.03125 0.5625 -5.4375 0.5625 -3.40625 C 0.5625 -1.34375 2.171875 0.21875 4.03125 0.21875 C 5.65625 0.21875 6.625 -1.171875 6.625 -2.328125 Z M 6.625 -2.328125 \"/>\n",
       "</symbol>\n",
       "<symbol overflow=\"visible\" id=\"glyph-1500018270689685-0-10\">\n",
       "<path style=\"stroke:none;\" d=\"M 4.6875 -2.140625 C 4.6875 -3.40625 3.703125 -4.46875 2.5 -4.46875 C 1.25 -4.46875 0.28125 -3.375 0.28125 -2.140625 C 0.28125 -0.84375 1.3125 0.109375 2.484375 0.109375 C 3.6875 0.109375 4.6875 -0.875 4.6875 -2.140625 Z M 3.875 -2.21875 C 3.875 -1.859375 3.875 -1.3125 3.65625 -0.875 C 3.421875 -0.421875 2.984375 -0.140625 2.5 -0.140625 C 2.0625 -0.140625 1.625 -0.34375 1.359375 -0.8125 C 1.109375 -1.25 1.109375 -1.859375 1.109375 -2.21875 C 1.109375 -2.609375 1.109375 -3.140625 1.34375 -3.578125 C 1.609375 -4.03125 2.078125 -4.25 2.484375 -4.25 C 2.921875 -4.25 3.34375 -4.03125 3.609375 -3.59375 C 3.875 -3.171875 3.875 -2.59375 3.875 -2.21875 Z M 3.875 -2.21875 \"/>\n",
       "</symbol>\n",
       "<symbol overflow=\"visible\" id=\"glyph-1500018270689685-0-11\">\n",
       "<path style=\"stroke:none;\" d=\"M 3.3125 -1.234375 L 3.3125 -1.796875 L 3.0625 -1.796875 L 3.0625 -1.25 C 3.0625 -0.515625 2.765625 -0.140625 2.390625 -0.140625 C 1.71875 -0.140625 1.71875 -1.046875 1.71875 -1.21875 L 1.71875 -3.984375 L 3.15625 -3.984375 L 3.15625 -4.296875 L 1.71875 -4.296875 L 1.71875 -6.125 L 1.46875 -6.125 C 1.46875 -5.3125 1.171875 -4.25 0.1875 -4.203125 L 0.1875 -3.984375 L 1.03125 -3.984375 L 1.03125 -1.234375 C 1.03125 -0.015625 1.96875 0.109375 2.328125 0.109375 C 3.03125 0.109375 3.3125 -0.59375 3.3125 -1.234375 Z M 3.3125 -1.234375 \"/>\n",
       "</symbol>\n",
       "<symbol overflow=\"visible\" id=\"glyph-1500018270689685-0-12\">\n",
       "<path style=\"stroke:none;\" d=\"M 8.109375 0 L 8.109375 -0.3125 C 7.59375 -0.3125 7.34375 -0.3125 7.328125 -0.609375 L 7.328125 -2.515625 C 7.328125 -3.375 7.328125 -3.671875 7.015625 -4.03125 C 6.875 -4.203125 6.546875 -4.40625 5.96875 -4.40625 C 5.140625 -4.40625 4.6875 -3.8125 4.53125 -3.421875 C 4.390625 -4.296875 3.65625 -4.40625 3.203125 -4.40625 C 2.46875 -4.40625 2 -3.984375 1.71875 -3.359375 L 1.71875 -4.40625 L 0.3125 -4.296875 L 0.3125 -3.984375 C 1.015625 -3.984375 1.09375 -3.921875 1.09375 -3.421875 L 1.09375 -0.75 C 1.09375 -0.3125 0.984375 -0.3125 0.3125 -0.3125 L 0.3125 0 L 1.453125 -0.03125 L 2.5625 0 L 2.5625 -0.3125 C 1.890625 -0.3125 1.78125 -0.3125 1.78125 -0.75 L 1.78125 -2.59375 C 1.78125 -3.625 2.5 -4.1875 3.125 -4.1875 C 3.765625 -4.1875 3.875 -3.65625 3.875 -3.078125 L 3.875 -0.75 C 3.875 -0.3125 3.765625 -0.3125 3.09375 -0.3125 L 3.09375 0 L 4.21875 -0.03125 L 5.328125 0 L 5.328125 -0.3125 C 4.671875 -0.3125 4.5625 -0.3125 4.5625 -0.75 L 4.5625 -2.59375 C 4.5625 -3.625 5.265625 -4.1875 5.90625 -4.1875 C 6.53125 -4.1875 6.640625 -3.65625 6.640625 -3.078125 L 6.640625 -0.75 C 6.640625 -0.3125 6.53125 -0.3125 5.859375 -0.3125 L 5.859375 0 L 6.984375 -0.03125 Z M 8.109375 0 \"/>\n",
       "</symbol>\n",
       "<symbol overflow=\"visible\" id=\"glyph-1500018270689685-0-13\">\n",
       "<path style=\"stroke:none;\" d=\"M 5.1875 -2.15625 C 5.1875 -3.421875 4.21875 -4.40625 3.078125 -4.40625 C 2.296875 -4.40625 1.875 -3.9375 1.71875 -3.765625 L 1.71875 -6.921875 L 0.28125 -6.8125 L 0.28125 -6.5 C 0.984375 -6.5 1.0625 -6.4375 1.0625 -5.9375 L 1.0625 0 L 1.3125 0 L 1.671875 -0.625 C 1.8125 -0.390625 2.234375 0.109375 2.96875 0.109375 C 4.15625 0.109375 5.1875 -0.875 5.1875 -2.15625 Z M 4.359375 -2.15625 C 4.359375 -1.796875 4.34375 -1.203125 4.0625 -0.75 C 3.84375 -0.4375 3.46875 -0.109375 2.9375 -0.109375 C 2.484375 -0.109375 2.125 -0.34375 1.890625 -0.71875 C 1.75 -0.921875 1.75 -0.953125 1.75 -1.140625 L 1.75 -3.1875 C 1.75 -3.375 1.75 -3.390625 1.859375 -3.546875 C 2.25 -4.109375 2.796875 -4.1875 3.03125 -4.1875 C 3.484375 -4.1875 3.84375 -3.921875 4.078125 -3.546875 C 4.34375 -3.140625 4.359375 -2.578125 4.359375 -2.15625 Z M 4.359375 -2.15625 \"/>\n",
       "</symbol>\n",
       "<symbol overflow=\"visible\" id=\"glyph-1500018270689685-0-14\">\n",
       "<path style=\"stroke:none;\" d=\"M 5.09375 0 L 5.09375 -0.3125 C 4.71875 -0.3125 4.5 -0.3125 4.125 -0.84375 L 2.859375 -2.625 C 2.84375 -2.640625 2.796875 -2.703125 2.796875 -2.734375 C 2.796875 -2.765625 3.515625 -3.375 3.609375 -3.453125 C 4.234375 -3.953125 4.65625 -3.984375 4.859375 -3.984375 L 4.859375 -4.296875 C 4.578125 -4.265625 4.453125 -4.265625 4.171875 -4.265625 C 3.8125 -4.265625 3.1875 -4.28125 3.046875 -4.296875 L 3.046875 -3.984375 C 3.234375 -3.984375 3.34375 -3.875 3.34375 -3.734375 C 3.34375 -3.53125 3.203125 -3.421875 3.125 -3.34375 L 1.71875 -2.140625 L 1.71875 -6.921875 L 0.28125 -6.8125 L 0.28125 -6.5 C 0.984375 -6.5 1.0625 -6.4375 1.0625 -5.9375 L 1.0625 -0.75 C 1.0625 -0.3125 0.953125 -0.3125 0.28125 -0.3125 L 0.28125 0 L 1.359375 -0.03125 L 2.46875 0 L 2.46875 -0.3125 C 1.796875 -0.3125 1.6875 -0.3125 1.6875 -0.75 L 1.6875 -1.78125 L 2.328125 -2.328125 C 3.09375 -1.28125 3.515625 -0.71875 3.515625 -0.53125 C 3.515625 -0.34375 3.34375 -0.3125 3.15625 -0.3125 L 3.15625 0 L 4.234375 -0.03125 C 4.515625 -0.03125 4.8125 -0.015625 5.09375 0 Z M 5.09375 0 \"/>\n",
       "</symbol>\n",
       "<symbol overflow=\"visible\" id=\"glyph-1500018270689685-0-15\">\n",
       "<path style=\"stroke:none;\" d=\"M 5.25 0 L 5.25 -0.3125 C 4.5625 -0.3125 4.46875 -0.375 4.46875 -0.875 L 4.46875 -6.921875 L 3.046875 -6.8125 L 3.046875 -6.5 C 3.734375 -6.5 3.8125 -6.4375 3.8125 -5.9375 L 3.8125 -3.78125 C 3.53125 -4.140625 3.09375 -4.40625 2.5625 -4.40625 C 1.390625 -4.40625 0.34375 -3.421875 0.34375 -2.140625 C 0.34375 -0.875 1.3125 0.109375 2.453125 0.109375 C 3.09375 0.109375 3.53125 -0.234375 3.78125 -0.546875 L 3.78125 0.109375 Z M 3.78125 -1.171875 C 3.78125 -1 3.78125 -0.984375 3.671875 -0.8125 C 3.375 -0.328125 2.9375 -0.109375 2.5 -0.109375 C 2.046875 -0.109375 1.6875 -0.375 1.453125 -0.75 C 1.203125 -1.15625 1.171875 -1.71875 1.171875 -2.140625 C 1.171875 -2.5 1.1875 -3.09375 1.46875 -3.546875 C 1.6875 -3.859375 2.0625 -4.1875 2.609375 -4.1875 C 2.953125 -4.1875 3.375 -4.03125 3.671875 -3.59375 C 3.78125 -3.421875 3.78125 -3.40625 3.78125 -3.21875 Z M 3.78125 -1.171875 \"/>\n",
       "</symbol>\n",
       "<symbol overflow=\"visible\" id=\"glyph-1500018270689685-0-16\">\n",
       "<path style=\"stroke:none;\" d=\"M 4.96875 -1.859375 C 4.96875 -2.84375 4.3125 -3.671875 3.484375 -3.875 L 2.203125 -4.171875 C 1.578125 -4.328125 1.203125 -4.859375 1.203125 -5.4375 C 1.203125 -6.140625 1.734375 -6.75 2.515625 -6.75 C 4.171875 -6.75 4.390625 -5.109375 4.453125 -4.671875 C 4.46875 -4.609375 4.46875 -4.546875 4.578125 -4.546875 C 4.703125 -4.546875 4.703125 -4.59375 4.703125 -4.78125 L 4.703125 -6.78125 C 4.703125 -6.953125 4.703125 -7.03125 4.59375 -7.03125 C 4.53125 -7.03125 4.515625 -7.015625 4.453125 -6.890625 L 4.09375 -6.328125 C 3.796875 -6.625 3.390625 -7.03125 2.5 -7.03125 C 1.390625 -7.03125 0.5625 -6.15625 0.5625 -5.09375 C 0.5625 -4.265625 1.09375 -3.53125 1.859375 -3.265625 C 1.96875 -3.234375 2.484375 -3.109375 3.1875 -2.9375 C 3.453125 -2.875 3.75 -2.796875 4.03125 -2.4375 C 4.234375 -2.171875 4.34375 -1.84375 4.34375 -1.515625 C 4.34375 -0.8125 3.84375 -0.09375 3 -0.09375 C 2.71875 -0.09375 1.953125 -0.140625 1.421875 -0.625 C 0.84375 -1.171875 0.8125 -1.796875 0.8125 -2.15625 C 0.796875 -2.265625 0.71875 -2.265625 0.6875 -2.265625 C 0.5625 -2.265625 0.5625 -2.1875 0.5625 -2.015625 L 0.5625 -0.015625 C 0.5625 0.15625 0.5625 0.21875 0.671875 0.21875 C 0.734375 0.21875 0.75 0.203125 0.8125 0.09375 C 0.8125 0.09375 0.84375 0.046875 1.171875 -0.484375 C 1.484375 -0.140625 2.125 0.21875 3.015625 0.21875 C 4.171875 0.21875 4.96875 -0.75 4.96875 -1.859375 Z M 4.96875 -1.859375 \"/>\n",
       "</symbol>\n",
       "<symbol overflow=\"visible\" id=\"glyph-1500018270689685-0-17\">\n",
       "<path style=\"stroke:none;\" d=\"M 5.140625 0 L 5.140625 -0.3125 C 4.609375 -0.3125 4.421875 -0.328125 4.203125 -0.625 L 2.859375 -2.34375 C 3.15625 -2.71875 3.53125 -3.203125 3.78125 -3.46875 C 4.09375 -3.828125 4.5 -3.984375 4.96875 -3.984375 L 4.96875 -4.296875 C 4.703125 -4.28125 4.40625 -4.265625 4.140625 -4.265625 C 3.84375 -4.265625 3.3125 -4.28125 3.1875 -4.296875 L 3.1875 -3.984375 C 3.40625 -3.96875 3.484375 -3.84375 3.484375 -3.671875 C 3.484375 -3.515625 3.375 -3.390625 3.328125 -3.328125 L 2.71875 -2.546875 L 1.9375 -3.5625 C 1.84375 -3.65625 1.84375 -3.671875 1.84375 -3.734375 C 1.84375 -3.890625 2 -3.984375 2.1875 -3.984375 L 2.1875 -4.296875 L 1.109375 -4.265625 C 0.90625 -4.265625 0.4375 -4.28125 0.171875 -4.296875 L 0.171875 -3.984375 C 0.875 -3.984375 0.875 -3.984375 1.34375 -3.375 L 2.328125 -2.09375 C 1.859375 -1.5 1.859375 -1.46875 1.390625 -0.90625 C 0.921875 -0.328125 0.328125 -0.3125 0.125 -0.3125 L 0.125 0 C 0.375 -0.015625 0.6875 -0.03125 0.953125 -0.03125 L 1.890625 0 L 1.890625 -0.3125 C 1.671875 -0.34375 1.609375 -0.46875 1.609375 -0.625 C 1.609375 -0.84375 1.890625 -1.171875 2.5 -1.890625 L 3.265625 -0.890625 C 3.34375 -0.78125 3.46875 -0.625 3.46875 -0.5625 C 3.46875 -0.46875 3.375 -0.3125 3.109375 -0.3125 L 3.109375 0 L 4.1875 -0.03125 C 4.453125 -0.03125 4.84375 -0.015625 5.140625 0 Z M 5.140625 0 \"/>\n",
       "</symbol>\n",
       "<symbol overflow=\"visible\" id=\"glyph-1500018270689685-0-18\">\n",
       "<path style=\"stroke:none;\" d=\"M 2.546875 0 L 2.546875 -0.3125 C 1.875 -0.3125 1.765625 -0.3125 1.765625 -0.75 L 1.765625 -6.921875 L 0.328125 -6.8125 L 0.328125 -6.5 C 1.03125 -6.5 1.109375 -6.4375 1.109375 -5.9375 L 1.109375 -0.75 C 1.109375 -0.3125 1 -0.3125 0.328125 -0.3125 L 0.328125 0 L 1.4375 -0.03125 Z M 2.546875 0 \"/>\n",
       "</symbol>\n",
       "<symbol overflow=\"visible\" id=\"glyph-1500018270689685-0-19\">\n",
       "<path style=\"stroke:none;\" d=\"M 3.59375 -1.28125 C 3.59375 -1.796875 3.296875 -2.109375 3.171875 -2.21875 C 2.84375 -2.546875 2.453125 -2.625 2.03125 -2.703125 C 1.46875 -2.8125 0.8125 -2.9375 0.8125 -3.515625 C 0.8125 -3.875 1.0625 -4.28125 1.921875 -4.28125 C 3.015625 -4.28125 3.078125 -3.375 3.09375 -3.078125 C 3.09375 -2.984375 3.203125 -2.984375 3.203125 -2.984375 C 3.34375 -2.984375 3.34375 -3.03125 3.34375 -3.21875 L 3.34375 -4.234375 C 3.34375 -4.390625 3.34375 -4.46875 3.234375 -4.46875 C 3.1875 -4.46875 3.15625 -4.46875 3.03125 -4.34375 C 3 -4.3125 2.90625 -4.21875 2.859375 -4.1875 C 2.484375 -4.46875 2.078125 -4.46875 1.921875 -4.46875 C 0.703125 -4.46875 0.328125 -3.796875 0.328125 -3.234375 C 0.328125 -2.890625 0.484375 -2.609375 0.75 -2.390625 C 1.078125 -2.140625 1.359375 -2.078125 2.078125 -1.9375 C 2.296875 -1.890625 3.109375 -1.734375 3.109375 -1.015625 C 3.109375 -0.515625 2.765625 -0.109375 1.984375 -0.109375 C 1.140625 -0.109375 0.78125 -0.671875 0.59375 -1.53125 C 0.5625 -1.65625 0.5625 -1.6875 0.453125 -1.6875 C 0.328125 -1.6875 0.328125 -1.625 0.328125 -1.453125 L 0.328125 -0.125 C 0.328125 0.046875 0.328125 0.109375 0.4375 0.109375 C 0.484375 0.109375 0.5 0.09375 0.6875 -0.09375 C 0.703125 -0.109375 0.703125 -0.125 0.890625 -0.3125 C 1.328125 0.09375 1.78125 0.109375 1.984375 0.109375 C 3.125 0.109375 3.59375 -0.5625 3.59375 -1.28125 Z M 3.59375 -1.28125 \"/>\n",
       "</symbol>\n",
       "<symbol overflow=\"visible\" id=\"glyph-1500018270689685-0-20\">\n",
       "<path style=\"stroke:none;\" d=\"M 5.328125 0 L 5.328125 -0.3125 C 4.640625 -0.3125 4.5625 -0.375 4.5625 -0.875 L 4.5625 -4.40625 L 3.09375 -4.296875 L 3.09375 -3.984375 C 3.78125 -3.984375 3.875 -3.921875 3.875 -3.421875 L 3.875 -1.65625 C 3.875 -0.78125 3.390625 -0.109375 2.65625 -0.109375 C 1.828125 -0.109375 1.78125 -0.578125 1.78125 -1.09375 L 1.78125 -4.40625 L 0.3125 -4.296875 L 0.3125 -3.984375 C 1.09375 -3.984375 1.09375 -3.953125 1.09375 -3.078125 L 1.09375 -1.578125 C 1.09375 -0.796875 1.09375 0.109375 2.609375 0.109375 C 3.171875 0.109375 3.609375 -0.171875 3.890625 -0.78125 L 3.890625 0.109375 Z M 5.328125 0 \"/>\n",
       "</symbol>\n",
       "<symbol overflow=\"visible\" id=\"glyph-1500018270689685-0-21\">\n",
       "<path style=\"stroke:none;\" d=\"M 5.0625 -3.984375 L 5.0625 -4.296875 C 4.828125 -4.28125 4.546875 -4.265625 4.3125 -4.265625 L 3.453125 -4.296875 L 3.453125 -3.984375 C 3.8125 -3.984375 3.921875 -3.75 3.921875 -3.5625 C 3.921875 -3.46875 3.90625 -3.421875 3.875 -3.3125 L 2.84375 -0.78125 L 1.734375 -3.5625 C 1.671875 -3.6875 1.671875 -3.734375 1.671875 -3.734375 C 1.671875 -3.984375 2.0625 -3.984375 2.25 -3.984375 L 2.25 -4.296875 L 1.15625 -4.265625 C 0.890625 -4.265625 0.484375 -4.28125 0.1875 -4.296875 L 0.1875 -3.984375 C 0.8125 -3.984375 0.859375 -3.921875 0.984375 -3.625 L 2.421875 -0.078125 C 2.484375 0.0625 2.5 0.109375 2.625 0.109375 C 2.765625 0.109375 2.796875 0.015625 2.84375 -0.078125 L 4.140625 -3.3125 C 4.234375 -3.546875 4.40625 -3.984375 5.0625 -3.984375 Z M 5.0625 -3.984375 \"/>\n",
       "</symbol>\n",
       "<symbol overflow=\"visible\" id=\"glyph-1500018270689685-0-22\">\n",
       "<path style=\"stroke:none;\" d=\"M 2.46875 0 L 2.46875 -0.3125 C 1.796875 -0.3125 1.765625 -0.359375 1.765625 -0.75 L 1.765625 -4.40625 L 0.375 -4.296875 L 0.375 -3.984375 C 1.015625 -3.984375 1.109375 -3.921875 1.109375 -3.4375 L 1.109375 -0.75 C 1.109375 -0.3125 1 -0.3125 0.328125 -0.3125 L 0.328125 0 L 1.421875 -0.03125 C 1.78125 -0.03125 2.125 -0.015625 2.46875 0 Z M 1.90625 -6.015625 C 1.90625 -6.296875 1.6875 -6.546875 1.390625 -6.546875 C 1.046875 -6.546875 0.84375 -6.265625 0.84375 -6.015625 C 0.84375 -5.75 1.078125 -5.5 1.375 -5.5 C 1.71875 -5.5 1.90625 -5.765625 1.90625 -6.015625 Z M 1.90625 -6.015625 \"/>\n",
       "</symbol>\n",
       "</g>\n",
       "<clipPath id=\"clip-1500018270689685-1\">\n",
       "  <path d=\"M 73 10 L 107.574219 10 L 107.574219 63 L 73 63 Z M 73 10 \"/>\n",
       "</clipPath>\n",
       "</defs>\n",
       "<g id=\"surface1\">\n",
       "<path style=\"fill:none;stroke-width:0.3985;stroke-linecap:butt;stroke-linejoin:miter;stroke:rgb(0%,0%,0%);stroke-opacity:1;stroke-miterlimit:10;\" d=\"M 0.001875 -6.961 L 0.001875 -20.746156 \" transform=\"matrix(1,0,0,-1,14.045,7.914)\"/>\n",
       "<path style=\"fill:none;stroke-width:0.31879;stroke-linecap:round;stroke-linejoin:round;stroke:rgb(0%,0%,0%);stroke-opacity:1;stroke-miterlimit:10;\" d=\"M -1.196396 1.595625 C -1.094834 0.997969 -0.00108375 0.0995313 0.299698 0.001875 C -0.00108375 -0.0996875 -1.094834 -0.998125 -1.196396 -1.595781 \" transform=\"matrix(0,1,1,0,14.045,28.66124)\"/>\n",
       "<path style=\"fill:none;stroke-width:0.3985;stroke-linecap:butt;stroke-linejoin:miter;stroke:rgb(0%,0%,0%);stroke-opacity:1;stroke-miterlimit:10;\" d=\"M 62.29875 -4.566469 L 14.67375 -22.746156 \" transform=\"matrix(1,0,0,-1,14.045,7.914)\"/>\n",
       "<path style=\"fill:none;stroke-width:0.31879;stroke-linecap:round;stroke-linejoin:round;stroke:rgb(0%,0%,0%);stroke-opacity:1;stroke-miterlimit:10;\" d=\"M -1.197234 1.594377 C -1.095679 0.995649 0.00024304 0.10089 0.299847 -0.000950337 C -0.000940115 -0.0992407 -1.096039 -0.997497 -1.194614 -1.595041 \" transform=\"matrix(-0.93478,0.35686,0.35686,0.93478,28.71813,30.65951)\"/>\n",
       "<path style=\"fill:none;stroke-width:0.3985;stroke-linecap:butt;stroke-linejoin:miter;stroke:rgb(0%,0%,0%);stroke-opacity:1;stroke-miterlimit:10;\" d=\"M 68.849531 -8.113344 L 60.302656 -20.933656 \" transform=\"matrix(1,0,0,-1,14.045,7.914)\"/>\n",
       "<path style=\"fill:none;stroke-width:0.31879;stroke-linecap:round;stroke-linejoin:round;stroke:rgb(0%,0%,0%);stroke-opacity:1;stroke-miterlimit:10;\" d=\"M -1.197367 1.594212 C -1.094745 0.998015 0.000469301 0.0994232 0.300732 0.0000641658 C 0.000474193 -0.0971497 -1.094696 -0.995796 -1.197287 -1.593078 \" transform=\"matrix(-0.55643,0.8346,0.8346,0.55643,74.34697,28.84663)\"/>\n",
       "<g clip-path=\"url(#clip-1500018270689685-1)\" clip-rule=\"nonzero\">\n",
       "<path style=\"fill:none;stroke-width:0.3985;stroke-linecap:butt;stroke-linejoin:miter;stroke:rgb(0%,0%,0%);stroke-opacity:1;stroke-miterlimit:10;\" d=\"M 79.665937 -8.113344 L 93.154219 -28.347719 L 65.247969 -49.277406 \" transform=\"matrix(1,0,0,-1,14.045,7.914)\"/>\n",
       "</g>\n",
       "<path style=\"fill:none;stroke-width:0.31879;stroke-linecap:round;stroke-linejoin:round;stroke:rgb(0%,0%,0%);stroke-opacity:1;stroke-miterlimit:10;\" d=\"M -1.194678 1.592578 C -1.09592 0.998554 -0.00115092 0.0997638 0.298974 0.00102516 C -0.000369029 -0.100059 -1.094321 -0.99501 -1.194609 -1.595258 \" transform=\"matrix(-0.80385,0.60286,0.60286,0.80385,79.2944,57.19003)\"/>\n",
       "<path style=\"fill:none;stroke-width:0.3985;stroke-linecap:butt;stroke-linejoin:miter;stroke:rgb(0%,0%,0%);stroke-opacity:1;stroke-miterlimit:10;\" d=\"M 5.712813 -35.488344 L 16.67375 -49.191469 \" transform=\"matrix(1,0,0,-1,14.045,7.914)\"/>\n",
       "<path style=\"fill:none;stroke-width:0.31879;stroke-linecap:round;stroke-linejoin:round;stroke:rgb(0%,0%,0%);stroke-opacity:1;stroke-miterlimit:10;\" d=\"M -1.19666 1.59273 C -1.097073 0.99534 -0.00182122 0.0992866 0.296879 -0.000268827 C -0.00181441 -0.0998446 -1.097005 -0.995973 -1.196551 -1.59337 \" transform=\"matrix(0.6277,0.78468,0.78468,-0.6277,30.72011,57.10672)\"/>\n",
       "<path style=\"fill:none;stroke-width:0.3985;stroke-linecap:butt;stroke-linejoin:miter;stroke:rgb(0%,0%,0%);stroke-opacity:1;stroke-miterlimit:10;\" d=\"M 14.244063 -33.171938 L 83.705 -56.695375 L 83.705 -77.441469 \" transform=\"matrix(1,0,0,-1,14.045,7.914)\"/>\n",
       "<path style=\"fill:none;stroke-width:0.31879;stroke-linecap:round;stroke-linejoin:round;stroke:rgb(0%,0%,0%);stroke-opacity:1;stroke-miterlimit:10;\" d=\"M -1.194684 1.59289 C -1.097027 0.995234 0.00062875 0.100702 0.297504 -0.00086 C 0.00062875 -0.0985163 -1.097027 -0.996954 -1.194684 -1.59461 \" transform=\"matrix(0,1,1,0,97.75086,85.35484)\"/>\n",
       "<path style=\"fill:none;stroke-width:0.3985;stroke-linecap:butt;stroke-linejoin:miter;stroke:rgb(0%,0%,0%);stroke-opacity:1;stroke-miterlimit:10;\" d=\"M 47.251875 -35.378969 L 31.255781 -49.250063 \" transform=\"matrix(1,0,0,-1,14.045,7.914)\"/>\n",
       "<path style=\"fill:none;stroke-width:0.31879;stroke-linecap:round;stroke-linejoin:round;stroke:rgb(0%,0%,0%);stroke-opacity:1;stroke-miterlimit:10;\" d=\"M -1.197615 1.594 C -1.097255 0.996892 0.00104904 0.100962 0.300624 0.000845304 C 0.00155985 -0.100414 -1.096257 -0.997852 -1.194723 -1.592531 \" transform=\"matrix(-0.75818,0.6576,0.6576,0.75818,45.30159,57.16495)\"/>\n",
       "<path style=\"fill:none;stroke-width:0.3985;stroke-linecap:butt;stroke-linejoin:miter;stroke:rgb(0%,0%,0%);stroke-opacity:1;stroke-miterlimit:10;\" d=\"M 55.357344 -35.378969 L 55.357344 -49.093813 \" transform=\"matrix(1,0,0,-1,14.045,7.914)\"/>\n",
       "<path style=\"fill:none;stroke-width:0.31879;stroke-linecap:round;stroke-linejoin:round;stroke:rgb(0%,0%,0%);stroke-opacity:1;stroke-miterlimit:10;\" d=\"M -1.19554 1.59596 C -1.093977 0.994398 -0.0002275 0.0998663 0.300554 -0.00169625 C -0.0002275 -0.0993525 -1.093977 -0.99779 -1.19554 -1.595446 \" transform=\"matrix(0,1,1,0,69.40404,57.00804)\"/>\n",
       "<path style=\"fill:none;stroke-width:0.3985;stroke-linecap:butt;stroke-linejoin:miter;stroke:rgb(0%,0%,0%);stroke-opacity:1;stroke-miterlimit:10;\" d=\"M 25.412031 -63.836 L 30.638594 -77.468813 \" transform=\"matrix(1,0,0,-1,14.045,7.914)\"/>\n",
       "<path style=\"fill:none;stroke-width:0.31879;stroke-linecap:round;stroke-linejoin:round;stroke:rgb(0%,0%,0%);stroke-opacity:1;stroke-miterlimit:10;\" d=\"M -1.196224 1.594226 C -1.095525 0.995671 -0.00136897 0.0998997 0.29934 0.00135336 C 0.000823179 -0.101522 -1.094919 -0.997845 -1.194245 -1.59495 \" transform=\"matrix(0.3583,0.93478,0.93478,-0.3583,44.68445,85.38473)\"/>\n",
       "<path style=\"fill:none;stroke-width:0.3985;stroke-linecap:butt;stroke-linejoin:miter;stroke:rgb(0%,0%,0%);stroke-opacity:1;stroke-miterlimit:10;\" d=\"M 49.86125 -63.836 L 39.318281 -77.535219 \" transform=\"matrix(1,0,0,-1,14.045,7.914)\"/>\n",
       "<path style=\"fill:none;stroke-width:0.31879;stroke-linecap:round;stroke-linejoin:round;stroke:rgb(0%,0%,0%);stroke-opacity:1;stroke-miterlimit:10;\" d=\"M -1.194892 1.592287 C -1.094926 0.997056 -0.000408039 0.0977143 0.300211 0.000365366 C -0.00106501 -0.0990459 -1.09651 -0.996147 -1.196385 -1.593092 \" transform=\"matrix(-0.61278,0.79616,0.79616,0.61278,53.36336,85.44826)\"/>\n",
       "<path style=\"fill:none;stroke-width:0.3985;stroke-linecap:butt;stroke-linejoin:miter;stroke:rgb(0%,0%,0%);stroke-opacity:1;stroke-miterlimit:10;\" d=\"M 62.501875 -63.836 L 76.240156 -77.574281 \" transform=\"matrix(1,0,0,-1,14.045,7.914)\"/>\n",
       "<path style=\"fill:none;stroke-width:0.31879;stroke-linecap:round;stroke-linejoin:round;stroke:rgb(0%,0%,0%);stroke-opacity:1;stroke-miterlimit:10;\" d=\"M -1.196831 1.594068 C -1.097393 0.997441 -0.000814948 0.0997384 0.297499 0.000300523 C -0.000814948 -0.0991373 -1.097393 -0.99684 -1.196831 -1.593467 \" transform=\"matrix(0.7071,0.7071,0.7071,-0.7071,90.28552,85.48907)\"/>\n",
       "<g style=\"fill:rgb(0%,0%,0%);fill-opacity:1;\">\n",
       "  <use xlink:href=\"#glyph-1500018270689685-0-1\" x=\"4.137\" y=\"11.246\"/>\n",
       "  <use xlink:href=\"#glyph-1500018270689685-0-2\" x=\"10.642604\" y=\"11.246\"/>\n",
       "  <use xlink:href=\"#glyph-1500018270689685-0-3\" x=\"15.623924\" y=\"11.246\"/>\n",
       "  <use xlink:href=\"#glyph-1500018270689685-0-4\" x=\"19.529279\" y=\"11.246\"/>\n",
       "</g>\n",
       "<g style=\"fill:rgb(0%,0%,0%);fill-opacity:1;\">\n",
       "  <use xlink:href=\"#glyph-1500018270689685-0-5\" x=\"79.863\" y=\"10.454\"/>\n",
       "  <use xlink:href=\"#glyph-1500018270689685-0-6\" x=\"87.33498\" y=\"10.454\"/>\n",
       "  <use xlink:href=\"#glyph-1500018270689685-0-4\" x=\"92.3163\" y=\"10.454\"/>\n",
       "</g>\n",
       "<g style=\"fill:rgb(0%,0%,0%);fill-opacity:1;\">\n",
       "  <use xlink:href=\"#glyph-1500018270689685-0-7\" x=\"3.321\" y=\"39.662\"/>\n",
       "  <use xlink:href=\"#glyph-1500018270689685-0-8\" x=\"10.79298\" y=\"39.662\"/>\n",
       "  <use xlink:href=\"#glyph-1500018270689685-0-9\" x=\"17.577538\" y=\"39.662\"/>\n",
       "</g>\n",
       "<g style=\"fill:rgb(0%,0%,0%);fill-opacity:1;\">\n",
       "  <use xlink:href=\"#glyph-1500018270689685-0-8\" x=\"38.445\" y=\"39.662\"/>\n",
       "  <use xlink:href=\"#glyph-1500018270689685-0-10\" x=\"45.229558\" y=\"39.662\"/>\n",
       "  <use xlink:href=\"#glyph-1500018270689685-0-3\" x=\"50.210878\" y=\"39.662\"/>\n",
       "  <use xlink:href=\"#glyph-1500018270689685-0-11\" x=\"54.116233\" y=\"39.662\"/>\n",
       "  <use xlink:href=\"#glyph-1500018270689685-0-4\" x=\"57.9917\" y=\"39.662\"/>\n",
       "  <use xlink:href=\"#glyph-1500018270689685-0-12\" x=\"62.415112\" y=\"39.662\"/>\n",
       "  <use xlink:href=\"#glyph-1500018270689685-0-13\" x=\"70.713991\" y=\"39.662\"/>\n",
       "  <use xlink:href=\"#glyph-1500018270689685-0-2\" x=\"76.253219\" y=\"39.662\"/>\n",
       "  <use xlink:href=\"#glyph-1500018270689685-0-3\" x=\"81.234539\" y=\"39.662\"/>\n",
       "  <use xlink:href=\"#glyph-1500018270689685-0-14\" x=\"85.139894\" y=\"39.662\"/>\n",
       "  <use xlink:href=\"#glyph-1500018270689685-0-4\" x=\"90.400168\" y=\"39.662\"/>\n",
       "  <use xlink:href=\"#glyph-1500018270689685-0-15\" x=\"94.82358\" y=\"39.662\"/>\n",
       "</g>\n",
       "<g style=\"fill:rgb(0%,0%,0%);fill-opacity:1;\">\n",
       "  <use xlink:href=\"#glyph-1500018270689685-0-16\" x=\"29.109\" y=\"68.009\"/>\n",
       "  <use xlink:href=\"#glyph-1500018270689685-0-4\" x=\"34.648228\" y=\"68.009\"/>\n",
       "  <use xlink:href=\"#glyph-1500018270689685-0-17\" x=\"39.07164\" y=\"68.009\"/>\n",
       "</g>\n",
       "<g style=\"fill:rgb(0%,0%,0%);fill-opacity:1;\">\n",
       "  <use xlink:href=\"#glyph-1500018270689685-0-9\" x=\"58.006\" y=\"68.009\"/>\n",
       "  <use xlink:href=\"#glyph-1500018270689685-0-18\" x=\"65.199026\" y=\"68.009\"/>\n",
       "  <use xlink:href=\"#glyph-1500018270689685-0-2\" x=\"67.96864\" y=\"68.009\"/>\n",
       "  <use xlink:href=\"#glyph-1500018270689685-0-19\" x=\"72.94996\" y=\"68.009\"/>\n",
       "  <use xlink:href=\"#glyph-1500018270689685-0-19\" x=\"76.87524\" y=\"68.009\"/>\n",
       "</g>\n",
       "<g style=\"fill:rgb(0%,0%,0%);fill-opacity:1;\">\n",
       "  <use xlink:href=\"#glyph-1500018270689685-0-16\" x=\"28.468\" y=\"96.355\"/>\n",
       "  <use xlink:href=\"#glyph-1500018270689685-0-20\" x=\"34.007228\" y=\"96.355\"/>\n",
       "  <use xlink:href=\"#glyph-1500018270689685-0-3\" x=\"39.546456\" y=\"96.355\"/>\n",
       "  <use xlink:href=\"#glyph-1500018270689685-0-21\" x=\"43.451811\" y=\"96.355\"/>\n",
       "  <use xlink:href=\"#glyph-1500018270689685-0-22\" x=\"48.712084\" y=\"96.355\"/>\n",
       "  <use xlink:href=\"#glyph-1500018270689685-0-21\" x=\"51.481698\" y=\"96.355\"/>\n",
       "  <use xlink:href=\"#glyph-1500018270689685-0-4\" x=\"56.741972\" y=\"96.355\"/>\n",
       "  <use xlink:href=\"#glyph-1500018270689685-0-15\" x=\"61.165384\" y=\"96.355\"/>\n",
       "</g>\n",
       "<g style=\"fill:rgb(0%,0%,0%);fill-opacity:1;\">\n",
       "  <use xlink:href=\"#glyph-1500018270689685-0-7\" x=\"91.244\" y=\"96.355\"/>\n",
       "  <use xlink:href=\"#glyph-1500018270689685-0-16\" x=\"98.71598\" y=\"96.355\"/>\n",
       "</g>\n",
       "</g>\n",
       "</svg>\n",
       "\n"
      ],
      "text/plain": [
       "BayesNets.BayesNet{BayesNets.CPDs.CPD}({8, 11} directed simple Int64 graph, BayesNets.CPDs.CPD[BayesNets.CPDs.LinearGaussianCPD(:Fare, Symbol[], Float64[], 1.02587, 0.178851), BayesNets.CPDs.LinearGaussianCPD(:Age, Symbol[], Float64[], 1.69629, 0.567512), BayesNets.CPDs.LinearGaussianCPD(:NPC, Symbol[:Age, :Fare], [-0.0703066, 0.185969], 1.04659, 0.35609), BayesNets.CPDs.LinearGaussianCPD(:Portembarked, Symbol[:Age], [0.111173], 1.17362, 0.636157), BayesNets.CPDs.LinearGaussianCPD(:Sex, Symbol[:Portembarked, :NPC], [0.102447, 0.283258], 0.894688, 0.477538), BayesNets.CPDs.LinearGaussianCPD(:Class, Symbol[:Age, :Portembarked], [0.209994, -0.229513], 1.6111, 0.800467), BayesNets.CPDs.LinearGaussianCPD(:Survived, Symbol[:Class, :Sex], [0.113145, 0.52927], 0.480213, 0.48626), BayesNets.CPDs.LinearGaussianCPD(:NS, Symbol[:NPC, :Class], [0.251102, -0.0478953], 0.858109, 0.268127)], Dict(:Portembarked=>4,:NPC=>3,:Age=>2,:Fare=>1,:Class=>6,:NS=>8,:Sex=>5,:Survived=>7))"
      ]
     },
     "execution_count": 8,
     "metadata": {},
     "output_type": "execute_result"
    }
   ],
   "source": [
    "params = K2GraphSearch([:Age, :Portembarked, :Fare, :NPC, :Class, :Sex, :NS, :Survived], \n",
    "                       LinearGaussianCPD,\n",
    "                       max_n_parents=2)\n",
    "bn=fit(BayesNet, titanic_data, params)"
   ]
  },
  {
   "cell_type": "code",
   "execution_count": 10,
   "metadata": {},
   "outputs": [
    {
     "name": "stderr",
     "output_type": "stream",
     "text": [
      "\u001b[1m\u001b[33mWARNING: \u001b[39m\u001b[22m\u001b[33mArray{T}(::Type{T}, m::Int) is deprecated, use Array{T}(m) instead.\u001b[39m\n",
      "Stacktrace:\n",
      " [1] \u001b[1mdepwarn\u001b[22m\u001b[22m\u001b[1m(\u001b[22m\u001b[22m::String, ::Symbol\u001b[1m)\u001b[22m\u001b[22m at \u001b[1m./deprecated.jl:70\u001b[22m\u001b[22m\n",
      " [2] \u001b[1mArray\u001b[22m\u001b[22m\u001b[1m(\u001b[22m\u001b[22m::Type{BayesNets.CPDs.CategoricalCPD{Distributions.Categorical{Float64}}}, ::Int64\u001b[1m)\u001b[22m\u001b[22m at \u001b[1m./deprecated.jl:57\u001b[22m\u001b[22m\n",
      " [3] \u001b[1mfit\u001b[22m\u001b[22m\u001b[1m(\u001b[22m\u001b[22m::Type{BayesNets.BayesNet}, ::DataFrames.DataFrame, ::LightGraphs.SimpleGraphs.SimpleDiGraph{Int64}, ::Type{BayesNets.CPDs.CategoricalCPD{Distributions.Categorical{Float64}}}\u001b[1m)\u001b[22m\u001b[22m at \u001b[1m/Users/siyu/.julia/v0.6/BayesNets/src/learning.jl:17\u001b[22m\u001b[22m\n",
      " [4] \u001b[1mfit\u001b[22m\u001b[22m\u001b[1m(\u001b[22m\u001b[22m::Type{BayesNets.BayesNet{BayesNets.CPDs.CategoricalCPD{Distributions.Categorical{Float64}}}}, ::DataFrames.DataFrame, ::NTuple{11,Pair{Symbol,Symbol}}\u001b[1m)\u001b[22m\u001b[22m at \u001b[1m/Users/siyu/.julia/v0.6/BayesNets/src/learning.jl:48\u001b[22m\u001b[22m\n",
      " [5] \u001b[1minclude_string\u001b[22m\u001b[22m\u001b[1m(\u001b[22m\u001b[22m::String, ::String\u001b[1m)\u001b[22m\u001b[22m at \u001b[1m./loading.jl:515\u001b[22m\u001b[22m\n",
      " [6] \u001b[1mexecute_request\u001b[22m\u001b[22m\u001b[1m(\u001b[22m\u001b[22m::ZMQ.Socket, ::IJulia.Msg\u001b[1m)\u001b[22m\u001b[22m at \u001b[1m/Users/siyu/.julia/v0.6/IJulia/src/execute_request.jl:160\u001b[22m\u001b[22m\n",
      " [7] \u001b[1meventloop\u001b[22m\u001b[22m\u001b[1m(\u001b[22m\u001b[22m::ZMQ.Socket\u001b[1m)\u001b[22m\u001b[22m at \u001b[1m/Users/siyu/.julia/v0.6/IJulia/src/eventloop.jl:8\u001b[22m\u001b[22m\n",
      " [8] \u001b[1m(::IJulia.##11#14)\u001b[22m\u001b[22m\u001b[1m(\u001b[22m\u001b[22m\u001b[1m)\u001b[22m\u001b[22m at \u001b[1m./task.jl:335\u001b[22m\u001b[22m\n",
      "while loading In[10], in expression starting on line 1\n",
      "\u001b[1m\u001b[33mWARNING: \u001b[39m\u001b[22m\u001b[33mArray{T}(::Type{T}, m::Int) is deprecated, use Array{T}(m) instead.\u001b[39m\n",
      "Stacktrace:\n",
      " [1] \u001b[1mdepwarn\u001b[22m\u001b[22m\u001b[1m(\u001b[22m\u001b[22m::String, ::Symbol\u001b[1m)\u001b[22m\u001b[22m at \u001b[1m./deprecated.jl:70\u001b[22m\u001b[22m\n",
      " [2] \u001b[1mArray\u001b[22m\u001b[22m\u001b[1m(\u001b[22m\u001b[22m::Type{Int64}, ::Int64\u001b[1m)\u001b[22m\u001b[22m at \u001b[1m./deprecated.jl:57\u001b[22m\u001b[22m\n",
      " [3] \u001b[1mfit\u001b[22m\u001b[22m\u001b[1m(\u001b[22m\u001b[22m::Type{BayesNets.CPDs.CategoricalCPD{Distributions.Categorical{Float64}}}, ::DataFrames.DataFrame, ::Symbol, ::Array{Symbol,1}\u001b[1m)\u001b[22m\u001b[22m at \u001b[1m/Users/siyu/.julia/v0.6/BayesNets/src/CPDs/categorical_cpd.jl:114\u001b[22m\u001b[22m\n",
      " [4] \u001b[1mfit\u001b[22m\u001b[22m\u001b[1m(\u001b[22m\u001b[22m::Type{BayesNets.BayesNet}, ::DataFrames.DataFrame, ::LightGraphs.SimpleGraphs.SimpleDiGraph{Int64}, ::Type{BayesNets.CPDs.CategoricalCPD{Distributions.Categorical{Float64}}}\u001b[1m)\u001b[22m\u001b[22m at \u001b[1m/Users/siyu/.julia/v0.6/BayesNets/src/learning.jl:21\u001b[22m\u001b[22m\n",
      " [5] \u001b[1mfit\u001b[22m\u001b[22m\u001b[1m(\u001b[22m\u001b[22m::Type{BayesNets.BayesNet{BayesNets.CPDs.CategoricalCPD{Distributions.Categorical{Float64}}}}, ::DataFrames.DataFrame, ::NTuple{11,Pair{Symbol,Symbol}}\u001b[1m)\u001b[22m\u001b[22m at \u001b[1m/Users/siyu/.julia/v0.6/BayesNets/src/learning.jl:48\u001b[22m\u001b[22m\n",
      " [6] \u001b[1minclude_string\u001b[22m\u001b[22m\u001b[1m(\u001b[22m\u001b[22m::String, ::String\u001b[1m)\u001b[22m\u001b[22m at \u001b[1m./loading.jl:515\u001b[22m\u001b[22m\n",
      " [7] \u001b[1mexecute_request\u001b[22m\u001b[22m\u001b[1m(\u001b[22m\u001b[22m::ZMQ.Socket, ::IJulia.Msg\u001b[1m)\u001b[22m\u001b[22m at \u001b[1m/Users/siyu/.julia/v0.6/IJulia/src/execute_request.jl:160\u001b[22m\u001b[22m\n",
      " [8] \u001b[1meventloop\u001b[22m\u001b[22m\u001b[1m(\u001b[22m\u001b[22m::ZMQ.Socket\u001b[1m)\u001b[22m\u001b[22m at \u001b[1m/Users/siyu/.julia/v0.6/IJulia/src/eventloop.jl:8\u001b[22m\u001b[22m\n",
      " [9] \u001b[1m(::IJulia.##11#14)\u001b[22m\u001b[22m\u001b[1m(\u001b[22m\u001b[22m\u001b[1m)\u001b[22m\u001b[22m at \u001b[1m./task.jl:335\u001b[22m\u001b[22m\n",
      "while loading In[10], in expression starting on line 1\n",
      "\u001b[1m\u001b[33mWARNING: \u001b[39m\u001b[22m\u001b[33mArray{T}(::Type{T}, m::Int) is deprecated, use Array{T}(m) instead.\u001b[39m\n",
      "Stacktrace:\n",
      " [1] \u001b[1mdepwarn\u001b[22m\u001b[22m\u001b[1m(\u001b[22m\u001b[22m::String, ::Symbol\u001b[1m)\u001b[22m\u001b[22m at \u001b[1m./deprecated.jl:70\u001b[22m\u001b[22m\n",
      " [2] \u001b[1mArray\u001b[22m\u001b[22m\u001b[1m(\u001b[22m\u001b[22m::Type{Distributions.Categorical{Float64}}, ::Int64\u001b[1m)\u001b[22m\u001b[22m at \u001b[1m./deprecated.jl:57\u001b[22m\u001b[22m\n",
      " [3] \u001b[1m#fit#10\u001b[22m\u001b[22m\u001b[1m(\u001b[22m\u001b[22m::Array{Int64,1}, ::Int64, ::Function, ::Type{BayesNets.CPDs.CategoricalCPD{Distributions.Categorical{Float64}}}, ::DataFrames.DataFrame, ::Symbol, ::Array{Symbol,1}\u001b[1m)\u001b[22m\u001b[22m at \u001b[1m/Users/siyu/.julia/v0.6/BayesNets/src/CPDs/categorical_cpd.jl:120\u001b[22m\u001b[22m\n",
      " [4] \u001b[1mfit\u001b[22m\u001b[22m\u001b[1m(\u001b[22m\u001b[22m::Type{BayesNets.CPDs.CategoricalCPD{Distributions.Categorical{Float64}}}, ::DataFrames.DataFrame, ::Symbol, ::Array{Symbol,1}\u001b[1m)\u001b[22m\u001b[22m at \u001b[1m/Users/siyu/.julia/v0.6/BayesNets/src/CPDs/categorical_cpd.jl:114\u001b[22m\u001b[22m\n",
      " [5] \u001b[1mfit\u001b[22m\u001b[22m\u001b[1m(\u001b[22m\u001b[22m::Type{BayesNets.BayesNet}, ::DataFrames.DataFrame, ::LightGraphs.SimpleGraphs.SimpleDiGraph{Int64}, ::Type{BayesNets.CPDs.CategoricalCPD{Distributions.Categorical{Float64}}}\u001b[1m)\u001b[22m\u001b[22m at \u001b[1m/Users/siyu/.julia/v0.6/BayesNets/src/learning.jl:21\u001b[22m\u001b[22m\n",
      " [6] \u001b[1mfit\u001b[22m\u001b[22m\u001b[1m(\u001b[22m\u001b[22m::Type{BayesNets.BayesNet{BayesNets.CPDs.CategoricalCPD{Distributions.Categorical{Float64}}}}, ::DataFrames.DataFrame, ::NTuple{11,Pair{Symbol,Symbol}}\u001b[1m)\u001b[22m\u001b[22m at \u001b[1m/Users/siyu/.julia/v0.6/BayesNets/src/learning.jl:48\u001b[22m\u001b[22m\n",
      " [7] \u001b[1minclude_string\u001b[22m\u001b[22m\u001b[1m(\u001b[22m\u001b[22m::String, ::String\u001b[1m)\u001b[22m\u001b[22m at \u001b[1m./loading.jl:515\u001b[22m\u001b[22m\n",
      " [8] \u001b[1mexecute_request\u001b[22m\u001b[22m\u001b[1m(\u001b[22m\u001b[22m::ZMQ.Socket, ::IJulia.Msg\u001b[1m)\u001b[22m\u001b[22m at \u001b[1m/Users/siyu/.julia/v0.6/IJulia/src/execute_request.jl:160\u001b[22m\u001b[22m\n",
      " [9] \u001b[1meventloop\u001b[22m\u001b[22m\u001b[1m(\u001b[22m\u001b[22m::ZMQ.Socket\u001b[1m)\u001b[22m\u001b[22m at \u001b[1m/Users/siyu/.julia/v0.6/IJulia/src/eventloop.jl:8\u001b[22m\u001b[22m\n",
      " [10] \u001b[1m(::IJulia.##11#14)\u001b[22m\u001b[22m\u001b[1m(\u001b[22m\u001b[22m\u001b[1m)\u001b[22m\u001b[22m at \u001b[1m./task.jl:335\u001b[22m\u001b[22m\n",
      "while loading In[10], in expression starting on line 1\n",
      "\u001b[1m\u001b[33mWARNING: \u001b[39m\u001b[22m\u001b[33mArray{T}(::Type{T}, m::Int) is deprecated, use Array{T}(m) instead.\u001b[39m\n",
      "Stacktrace:\n",
      " [1] \u001b[1mdepwarn\u001b[22m\u001b[22m\u001b[1m(\u001b[22m\u001b[22m::String, ::Symbol\u001b[1m)\u001b[22m\u001b[22m at \u001b[1m./deprecated.jl:70\u001b[22m\u001b[22m\n",
      " [2] \u001b[1mArray\u001b[22m\u001b[22m\u001b[1m(\u001b[22m\u001b[22m::Type{Int64}, ::Int64\u001b[1m)\u001b[22m\u001b[22m at \u001b[1m./deprecated.jl:57\u001b[22m\u001b[22m\n",
      " [3] \u001b[1m#fit#10\u001b[22m\u001b[22m\u001b[1m(\u001b[22m\u001b[22m::Array{Int64,1}, ::Int64, ::Function, ::Type{BayesNets.CPDs.CategoricalCPD{Distributions.Categorical{Float64}}}, ::DataFrames.DataFrame, ::Symbol, ::Array{Symbol,1}\u001b[1m)\u001b[22m\u001b[22m at \u001b[1m/Users/siyu/.julia/v0.6/BayesNets/src/CPDs/categorical_cpd.jl:121\u001b[22m\u001b[22m\n",
      " [4] \u001b[1mfit\u001b[22m\u001b[22m\u001b[1m(\u001b[22m\u001b[22m::Type{BayesNets.CPDs.CategoricalCPD{Distributions.Categorical{Float64}}}, ::DataFrames.DataFrame, ::Symbol, ::Array{Symbol,1}\u001b[1m)\u001b[22m\u001b[22m at \u001b[1m/Users/siyu/.julia/v0.6/BayesNets/src/CPDs/categorical_cpd.jl:114\u001b[22m\u001b[22m\n",
      " [5] \u001b[1mfit\u001b[22m\u001b[22m\u001b[1m(\u001b[22m\u001b[22m::Type{BayesNets.BayesNet}, ::DataFrames.DataFrame, ::LightGraphs.SimpleGraphs.SimpleDiGraph{Int64}, ::Type{BayesNets.CPDs.CategoricalCPD{Distributions.Categorical{Float64}}}\u001b[1m)\u001b[22m\u001b[22m at \u001b[1m/Users/siyu/.julia/v0.6/BayesNets/src/learning.jl:21\u001b[22m\u001b[22m\n",
      " [6] \u001b[1mfit\u001b[22m\u001b[22m\u001b[1m(\u001b[22m\u001b[22m::Type{BayesNets.BayesNet{BayesNets.CPDs.CategoricalCPD{Distributions.Categorical{Float64}}}}, ::DataFrames.DataFrame, ::NTuple{11,Pair{Symbol,Symbol}}\u001b[1m)\u001b[22m\u001b[22m at \u001b[1m/Users/siyu/.julia/v0.6/BayesNets/src/learning.jl:48\u001b[22m\u001b[22m\n",
      " [7] \u001b[1minclude_string\u001b[22m\u001b[22m\u001b[1m(\u001b[22m\u001b[22m::String, ::String\u001b[1m)\u001b[22m\u001b[22m at \u001b[1m./loading.jl:515\u001b[22m\u001b[22m\n",
      " [8] \u001b[1mexecute_request\u001b[22m\u001b[22m\u001b[1m(\u001b[22m\u001b[22m::ZMQ.Socket, ::IJulia.Msg\u001b[1m)\u001b[22m\u001b[22m at \u001b[1m/Users/siyu/.julia/v0.6/IJulia/src/execute_request.jl:160\u001b[22m\u001b[22m\n",
      " [9] \u001b[1meventloop\u001b[22m\u001b[22m\u001b[1m(\u001b[22m\u001b[22m::ZMQ.Socket\u001b[1m)\u001b[22m\u001b[22m at \u001b[1m/Users/siyu/.julia/v0.6/IJulia/src/eventloop.jl:8\u001b[22m\u001b[22m\n",
      " [10] \u001b[1m(::IJulia.##11#14)\u001b[22m\u001b[22m\u001b[1m(\u001b[22m\u001b[22m\u001b[1m)\u001b[22m\u001b[22m at \u001b[1m./task.jl:335\u001b[22m\u001b[22m\n",
      "while loading In[10], in expression starting on line 1\n",
      "\u001b[1m\u001b[33mWARNING: \u001b[39m\u001b[22m\u001b[33mArray{T}(::Type{T}, m::Int) is deprecated, use Array{T}(m) instead.\u001b[39m\n",
      "Stacktrace:\n",
      " [1] \u001b[1mdepwarn\u001b[22m\u001b[22m\u001b[1m(\u001b[22m\u001b[22m::String, ::Symbol\u001b[1m)\u001b[22m\u001b[22m at \u001b[1m./deprecated.jl:70\u001b[22m\u001b[22m\n",
      " [2] \u001b[1mArray\u001b[22m\u001b[22m\u001b[1m(\u001b[22m\u001b[22m::Type{BayesNets.CPDs.CategoricalCPD{Distributions.Categorical{Float64}}}, ::Int64\u001b[1m)\u001b[22m\u001b[22m at \u001b[1m./deprecated.jl:57\u001b[22m\u001b[22m\n",
      " [3] \u001b[1m_enforce_topological_order\u001b[22m\u001b[22m\u001b[1m(\u001b[22m\u001b[22m::LightGraphs.SimpleGraphs.SimpleDiGraph{Int64}, ::Array{BayesNets.CPDs.CategoricalCPD{Distributions.Categorical{Float64}},1}, ::Dict{Symbol,Int64}\u001b[1m)\u001b[22m\u001b[22m at \u001b[1m/Users/siyu/.julia/v0.6/BayesNets/src/bayes_nets.jl:34\u001b[22m\u001b[22m\n",
      " [4] \u001b[1mBayesNets.BayesNet\u001b[22m\u001b[22m\u001b[1m(\u001b[22m\u001b[22m::Array{BayesNets.CPDs.CategoricalCPD{Distributions.Categorical{Float64}},1}\u001b[1m)\u001b[22m\u001b[22m at \u001b[1m/Users/siyu/.julia/v0.6/BayesNets/src/bayes_nets.jl:68\u001b[22m\u001b[22m\n",
      " [5] \u001b[1mfit\u001b[22m\u001b[22m\u001b[1m(\u001b[22m\u001b[22m::Type{BayesNets.BayesNet}, ::DataFrames.DataFrame, ::LightGraphs.SimpleGraphs.SimpleDiGraph{Int64}, ::Type{BayesNets.CPDs.CategoricalCPD{Distributions.Categorical{Float64}}}\u001b[1m)\u001b[22m\u001b[22m at \u001b[1m/Users/siyu/.julia/v0.6/BayesNets/src/learning.jl:24\u001b[22m\u001b[22m\n",
      " [6] \u001b[1mfit\u001b[22m\u001b[22m\u001b[1m(\u001b[22m\u001b[22m::Type{BayesNets.BayesNet{BayesNets.CPDs.CategoricalCPD{Distributions.Categorical{Float64}}}}, ::DataFrames.DataFrame, ::NTuple{11,Pair{Symbol,Symbol}}\u001b[1m)\u001b[22m\u001b[22m at \u001b[1m/Users/siyu/.julia/v0.6/BayesNets/src/learning.jl:48\u001b[22m\u001b[22m\n",
      " [7] \u001b[1minclude_string\u001b[22m\u001b[22m\u001b[1m(\u001b[22m\u001b[22m::String, ::String\u001b[1m)\u001b[22m\u001b[22m at \u001b[1m./loading.jl:515\u001b[22m\u001b[22m\n",
      " [8] \u001b[1mexecute_request\u001b[22m\u001b[22m\u001b[1m(\u001b[22m\u001b[22m::ZMQ.Socket, ::IJulia.Msg\u001b[1m)\u001b[22m\u001b[22m at \u001b[1m/Users/siyu/.julia/v0.6/IJulia/src/execute_request.jl:160\u001b[22m\u001b[22m\n",
      " [9] \u001b[1meventloop\u001b[22m\u001b[22m\u001b[1m(\u001b[22m\u001b[22m::ZMQ.Socket\u001b[1m)\u001b[22m\u001b[22m at \u001b[1m/Users/siyu/.julia/v0.6/IJulia/src/eventloop.jl:8\u001b[22m\u001b[22m\n",
      " [10] \u001b[1m(::IJulia.##11#14)\u001b[22m\u001b[22m\u001b[1m(\u001b[22m\u001b[22m\u001b[1m)\u001b[22m\u001b[22m at \u001b[1m./task.jl:335\u001b[22m\u001b[22m\n",
      "while loading In[10], in expression starting on line 1\n"
     ]
    },
    {
     "data": {
      "image/svg+xml": [
       "<?xml version=\"1.0\" encoding=\"UTF-8\"?>\n",
       "<svg xmlns=\"http://www.w3.org/2000/svg\" xmlns:xlink=\"http://www.w3.org/1999/xlink\" width=\"107.576pt\" height=\"99.895pt\" viewBox=\"0 0 107.576 99.895\" version=\"1.1\">\n",
       "<defs>\n",
       "<g>\n",
       "<symbol overflow=\"visible\" id=\"glyph-1500018270689686-0-0\">\n",
       "<path style=\"stroke:none;\" d=\"\"/>\n",
       "</symbol>\n",
       "<symbol overflow=\"visible\" id=\"glyph-1500018270689686-0-1\">\n",
       "<path style=\"stroke:none;\" d=\"M 6.078125 -4.53125 L 5.796875 -6.78125 L 0.328125 -6.78125 L 0.328125 -6.46875 L 0.5625 -6.46875 C 1.328125 -6.46875 1.359375 -6.359375 1.359375 -6 L 1.359375 -0.78125 C 1.359375 -0.421875 1.328125 -0.3125 0.5625 -0.3125 L 0.328125 -0.3125 L 0.328125 0 C 0.671875 -0.03125 1.453125 -0.03125 1.84375 -0.03125 C 2.25 -0.03125 3.15625 -0.03125 3.515625 0 L 3.515625 -0.3125 L 3.1875 -0.3125 C 2.25 -0.3125 2.25 -0.4375 2.25 -0.78125 L 2.25 -3.234375 L 3.09375 -3.234375 C 4.0625 -3.234375 4.15625 -2.921875 4.15625 -2.078125 L 4.40625 -2.078125 L 4.40625 -4.71875 L 4.15625 -4.71875 C 4.15625 -3.875 4.0625 -3.546875 3.09375 -3.546875 L 2.25 -3.546875 L 2.25 -6.078125 C 2.25 -6.40625 2.265625 -6.46875 2.734375 -6.46875 L 3.921875 -6.46875 C 5.421875 -6.46875 5.671875 -5.90625 5.828125 -4.53125 Z M 6.078125 -4.53125 \"/>\n",
       "</symbol>\n",
       "<symbol overflow=\"visible\" id=\"glyph-1500018270689686-0-2\">\n",
       "<path style=\"stroke:none;\" d=\"M 4.8125 -0.890625 L 4.8125 -1.453125 L 4.5625 -1.453125 L 4.5625 -0.890625 C 4.5625 -0.3125 4.3125 -0.25 4.203125 -0.25 C 3.875 -0.25 3.84375 -0.703125 3.84375 -0.75 L 3.84375 -2.734375 C 3.84375 -3.15625 3.84375 -3.546875 3.484375 -3.921875 C 3.09375 -4.3125 2.59375 -4.46875 2.109375 -4.46875 C 1.296875 -4.46875 0.609375 -4 0.609375 -3.34375 C 0.609375 -3.046875 0.8125 -2.875 1.0625 -2.875 C 1.34375 -2.875 1.53125 -3.078125 1.53125 -3.328125 C 1.53125 -3.453125 1.46875 -3.78125 1.015625 -3.78125 C 1.28125 -4.140625 1.78125 -4.25 2.09375 -4.25 C 2.578125 -4.25 3.15625 -3.859375 3.15625 -2.96875 L 3.15625 -2.609375 C 2.640625 -2.578125 1.9375 -2.546875 1.3125 -2.25 C 0.5625 -1.90625 0.3125 -1.390625 0.3125 -0.953125 C 0.3125 -0.140625 1.28125 0.109375 1.90625 0.109375 C 2.578125 0.109375 3.03125 -0.296875 3.21875 -0.75 C 3.265625 -0.359375 3.53125 0.0625 4 0.0625 C 4.203125 0.0625 4.8125 -0.078125 4.8125 -0.890625 Z M 3.15625 -1.390625 C 3.15625 -0.453125 2.4375 -0.109375 1.984375 -0.109375 C 1.5 -0.109375 1.09375 -0.453125 1.09375 -0.953125 C 1.09375 -1.5 1.5 -2.328125 3.15625 -2.390625 Z M 3.15625 -1.390625 \"/>\n",
       "</symbol>\n",
       "<symbol overflow=\"visible\" id=\"glyph-1500018270689686-0-3\">\n",
       "<path style=\"stroke:none;\" d=\"M 3.625 -3.796875 C 3.625 -4.109375 3.3125 -4.40625 2.890625 -4.40625 C 2.15625 -4.40625 1.796875 -3.734375 1.671875 -3.3125 L 1.671875 -4.40625 L 0.28125 -4.296875 L 0.28125 -3.984375 C 0.984375 -3.984375 1.0625 -3.921875 1.0625 -3.421875 L 1.0625 -0.75 C 1.0625 -0.3125 0.953125 -0.3125 0.28125 -0.3125 L 0.28125 0 L 1.421875 -0.03125 C 1.8125 -0.03125 2.28125 -0.03125 2.6875 0 L 2.6875 -0.3125 L 2.46875 -0.3125 C 1.734375 -0.3125 1.71875 -0.421875 1.71875 -0.78125 L 1.71875 -2.3125 C 1.71875 -3.296875 2.140625 -4.1875 2.890625 -4.1875 C 2.953125 -4.1875 2.984375 -4.1875 3 -4.171875 C 2.96875 -4.171875 2.765625 -4.046875 2.765625 -3.78125 C 2.765625 -3.515625 2.984375 -3.359375 3.203125 -3.359375 C 3.375 -3.359375 3.625 -3.484375 3.625 -3.796875 Z M 3.625 -3.796875 \"/>\n",
       "</symbol>\n",
       "<symbol overflow=\"visible\" id=\"glyph-1500018270689686-0-4\">\n",
       "<path style=\"stroke:none;\" d=\"M 4.140625 -1.1875 C 4.140625 -1.28125 4.0625 -1.3125 4 -1.3125 C 3.921875 -1.3125 3.890625 -1.25 3.875 -1.171875 C 3.53125 -0.140625 2.625 -0.140625 2.53125 -0.140625 C 2.03125 -0.140625 1.640625 -0.4375 1.40625 -0.8125 C 1.109375 -1.28125 1.109375 -1.9375 1.109375 -2.296875 L 3.890625 -2.296875 C 4.109375 -2.296875 4.140625 -2.296875 4.140625 -2.515625 C 4.140625 -3.5 3.59375 -4.46875 2.359375 -4.46875 C 1.203125 -4.46875 0.28125 -3.4375 0.28125 -2.1875 C 0.28125 -0.859375 1.328125 0.109375 2.46875 0.109375 C 3.6875 0.109375 4.140625 -1 4.140625 -1.1875 Z M 3.484375 -2.515625 L 1.109375 -2.515625 C 1.171875 -4 2.015625 -4.25 2.359375 -4.25 C 3.375 -4.25 3.484375 -2.90625 3.484375 -2.515625 Z M 3.484375 -2.515625 \"/>\n",
       "</symbol>\n",
       "<symbol overflow=\"visible\" id=\"glyph-1500018270689686-0-5\">\n",
       "<path style=\"stroke:none;\" d=\"M 7.140625 0 L 7.140625 -0.3125 L 6.96875 -0.3125 C 6.375 -0.3125 6.234375 -0.375 6.125 -0.703125 L 3.96875 -6.9375 C 3.921875 -7.0625 3.890625 -7.140625 3.734375 -7.140625 C 3.578125 -7.140625 3.546875 -7.078125 3.5 -6.9375 L 1.4375 -0.984375 C 1.25 -0.46875 0.859375 -0.3125 0.3125 -0.3125 L 0.3125 0 L 1.328125 -0.03125 L 2.484375 0 L 2.484375 -0.3125 C 1.984375 -0.3125 1.734375 -0.5625 1.734375 -0.8125 C 1.734375 -0.84375 1.75 -0.953125 1.75 -0.96875 L 2.21875 -2.265625 L 4.671875 -2.265625 L 5.203125 -0.75 C 5.21875 -0.703125 5.234375 -0.640625 5.234375 -0.609375 C 5.234375 -0.3125 4.671875 -0.3125 4.40625 -0.3125 L 4.40625 0 C 4.765625 -0.03125 5.46875 -0.03125 5.84375 -0.03125 Z M 4.5625 -2.578125 L 2.328125 -2.578125 L 3.4375 -5.828125 Z M 4.5625 -2.578125 \"/>\n",
       "</symbol>\n",
       "<symbol overflow=\"visible\" id=\"glyph-1500018270689686-0-6\">\n",
       "<path style=\"stroke:none;\" d=\"M 4.828125 -4.03125 C 4.828125 -4.203125 4.71875 -4.515625 4.328125 -4.515625 C 4.125 -4.515625 3.6875 -4.453125 3.265625 -4.046875 C 2.84375 -4.375 2.4375 -4.40625 2.21875 -4.40625 C 1.28125 -4.40625 0.59375 -3.71875 0.59375 -2.953125 C 0.59375 -2.515625 0.8125 -2.140625 1.0625 -1.921875 C 0.9375 -1.78125 0.75 -1.453125 0.75 -1.09375 C 0.75 -0.78125 0.890625 -0.40625 1.203125 -0.203125 C 0.59375 -0.046875 0.28125 0.390625 0.28125 0.78125 C 0.28125 1.5 1.265625 2.046875 2.484375 2.046875 C 3.65625 2.046875 4.6875 1.546875 4.6875 0.765625 C 4.6875 0.421875 4.5625 -0.09375 4.046875 -0.375 C 3.515625 -0.640625 2.9375 -0.640625 2.328125 -0.640625 C 2.078125 -0.640625 1.65625 -0.640625 1.578125 -0.65625 C 1.265625 -0.703125 1.0625 -1 1.0625 -1.328125 C 1.0625 -1.359375 1.0625 -1.59375 1.21875 -1.796875 C 1.609375 -1.515625 2.03125 -1.484375 2.21875 -1.484375 C 3.140625 -1.484375 3.828125 -2.171875 3.828125 -2.9375 C 3.828125 -3.3125 3.671875 -3.671875 3.421875 -3.90625 C 3.78125 -4.25 4.140625 -4.296875 4.3125 -4.296875 C 4.3125 -4.296875 4.390625 -4.296875 4.421875 -4.28125 C 4.3125 -4.25 4.25 -4.140625 4.25 -4.015625 C 4.25 -3.84375 4.390625 -3.734375 4.546875 -3.734375 C 4.640625 -3.734375 4.828125 -3.796875 4.828125 -4.03125 Z M 3.078125 -2.953125 C 3.078125 -2.6875 3.078125 -2.359375 2.921875 -2.109375 C 2.84375 -2 2.609375 -1.71875 2.21875 -1.71875 C 1.34375 -1.71875 1.34375 -2.71875 1.34375 -2.9375 C 1.34375 -3.203125 1.359375 -3.53125 1.5 -3.78125 C 1.578125 -3.890625 1.8125 -4.171875 2.21875 -4.171875 C 3.078125 -4.171875 3.078125 -3.1875 3.078125 -2.953125 Z M 4.171875 0.78125 C 4.171875 1.328125 3.46875 1.828125 2.5 1.828125 C 1.484375 1.828125 0.796875 1.3125 0.796875 0.78125 C 0.796875 0.328125 1.171875 -0.046875 1.609375 -0.0625 L 2.203125 -0.0625 C 3.0625 -0.0625 4.171875 -0.0625 4.171875 0.78125 Z M 4.171875 0.78125 \"/>\n",
       "</symbol>\n",
       "<symbol overflow=\"visible\" id=\"glyph-1500018270689686-0-7\">\n",
       "<path style=\"stroke:none;\" d=\"M 7.140625 -6.5 L 7.140625 -6.8125 L 5.96875 -6.78125 L 4.8125 -6.8125 L 4.8125 -6.5 C 5.828125 -6.5 5.828125 -6.03125 5.828125 -5.765625 L 5.828125 -1.5 L 2.3125 -6.671875 C 2.21875 -6.796875 2.21875 -6.8125 2.03125 -6.8125 L 0.328125 -6.8125 L 0.328125 -6.5 L 0.625 -6.5 C 0.765625 -6.5 0.96875 -6.484375 1.109375 -6.484375 C 1.34375 -6.453125 1.359375 -6.4375 1.359375 -6.25 L 1.359375 -1.046875 C 1.359375 -0.78125 1.359375 -0.3125 0.328125 -0.3125 L 0.328125 0 L 1.5 -0.03125 L 2.65625 0 L 2.65625 -0.3125 C 1.640625 -0.3125 1.640625 -0.78125 1.640625 -1.046875 L 1.640625 -6.234375 C 1.6875 -6.1875 1.6875 -6.171875 1.734375 -6.109375 L 5.796875 -0.125 C 5.890625 -0.015625 5.90625 0 5.96875 0 C 6.109375 0 6.109375 -0.0625 6.109375 -0.265625 L 6.109375 -5.765625 C 6.109375 -6.03125 6.109375 -6.5 7.140625 -6.5 Z M 7.140625 -6.5 \"/>\n",
       "</symbol>\n",
       "<symbol overflow=\"visible\" id=\"glyph-1500018270689686-0-8\">\n",
       "<path style=\"stroke:none;\" d=\"M 6.21875 -4.953125 C 6.21875 -5.9375 5.234375 -6.8125 3.875 -6.8125 L 0.34375 -6.8125 L 0.34375 -6.5 L 0.59375 -6.5 C 1.359375 -6.5 1.375 -6.390625 1.375 -6.03125 L 1.375 -0.78125 C 1.375 -0.421875 1.359375 -0.3125 0.59375 -0.3125 L 0.34375 -0.3125 L 0.34375 0 C 0.703125 -0.03125 1.4375 -0.03125 1.8125 -0.03125 C 2.1875 -0.03125 2.9375 -0.03125 3.296875 0 L 3.296875 -0.3125 L 3.046875 -0.3125 C 2.28125 -0.3125 2.265625 -0.421875 2.265625 -0.78125 L 2.265625 -3.15625 L 3.953125 -3.15625 C 5.140625 -3.15625 6.21875 -3.953125 6.21875 -4.953125 Z M 5.1875 -4.953125 C 5.1875 -4.484375 5.1875 -3.40625 3.609375 -3.40625 L 2.234375 -3.40625 L 2.234375 -6.09375 C 2.234375 -6.4375 2.25 -6.5 2.71875 -6.5 L 3.609375 -6.5 C 5.1875 -6.5 5.1875 -5.4375 5.1875 -4.953125 Z M 5.1875 -4.953125 \"/>\n",
       "</symbol>\n",
       "<symbol overflow=\"visible\" id=\"glyph-1500018270689686-0-9\">\n",
       "<path style=\"stroke:none;\" d=\"M 6.625 -2.328125 C 6.625 -2.421875 6.625 -2.5 6.5 -2.5 C 6.390625 -2.5 6.390625 -2.4375 6.375 -2.328125 C 6.296875 -0.90625 5.234375 -0.09375 4.140625 -0.09375 C 3.53125 -0.09375 1.578125 -0.421875 1.578125 -3.40625 C 1.578125 -6.375 3.53125 -6.71875 4.140625 -6.71875 C 5.21875 -6.71875 6.109375 -5.8125 6.3125 -4.359375 C 6.328125 -4.21875 6.328125 -4.1875 6.46875 -4.1875 C 6.625 -4.1875 6.625 -4.21875 6.625 -4.421875 L 6.625 -6.78125 C 6.625 -6.953125 6.625 -7.03125 6.515625 -7.03125 C 6.484375 -7.03125 6.4375 -7.03125 6.359375 -6.90625 L 5.859375 -6.171875 C 5.5 -6.53125 4.984375 -7.03125 4.03125 -7.03125 C 2.15625 -7.03125 0.5625 -5.4375 0.5625 -3.40625 C 0.5625 -1.34375 2.171875 0.21875 4.03125 0.21875 C 5.65625 0.21875 6.625 -1.171875 6.625 -2.328125 Z M 6.625 -2.328125 \"/>\n",
       "</symbol>\n",
       "<symbol overflow=\"visible\" id=\"glyph-1500018270689686-0-10\">\n",
       "<path style=\"stroke:none;\" d=\"M 4.6875 -2.140625 C 4.6875 -3.40625 3.703125 -4.46875 2.5 -4.46875 C 1.25 -4.46875 0.28125 -3.375 0.28125 -2.140625 C 0.28125 -0.84375 1.3125 0.109375 2.484375 0.109375 C 3.6875 0.109375 4.6875 -0.875 4.6875 -2.140625 Z M 3.875 -2.21875 C 3.875 -1.859375 3.875 -1.3125 3.65625 -0.875 C 3.421875 -0.421875 2.984375 -0.140625 2.5 -0.140625 C 2.0625 -0.140625 1.625 -0.34375 1.359375 -0.8125 C 1.109375 -1.25 1.109375 -1.859375 1.109375 -2.21875 C 1.109375 -2.609375 1.109375 -3.140625 1.34375 -3.578125 C 1.609375 -4.03125 2.078125 -4.25 2.484375 -4.25 C 2.921875 -4.25 3.34375 -4.03125 3.609375 -3.59375 C 3.875 -3.171875 3.875 -2.59375 3.875 -2.21875 Z M 3.875 -2.21875 \"/>\n",
       "</symbol>\n",
       "<symbol overflow=\"visible\" id=\"glyph-1500018270689686-0-11\">\n",
       "<path style=\"stroke:none;\" d=\"M 3.3125 -1.234375 L 3.3125 -1.796875 L 3.0625 -1.796875 L 3.0625 -1.25 C 3.0625 -0.515625 2.765625 -0.140625 2.390625 -0.140625 C 1.71875 -0.140625 1.71875 -1.046875 1.71875 -1.21875 L 1.71875 -3.984375 L 3.15625 -3.984375 L 3.15625 -4.296875 L 1.71875 -4.296875 L 1.71875 -6.125 L 1.46875 -6.125 C 1.46875 -5.3125 1.171875 -4.25 0.1875 -4.203125 L 0.1875 -3.984375 L 1.03125 -3.984375 L 1.03125 -1.234375 C 1.03125 -0.015625 1.96875 0.109375 2.328125 0.109375 C 3.03125 0.109375 3.3125 -0.59375 3.3125 -1.234375 Z M 3.3125 -1.234375 \"/>\n",
       "</symbol>\n",
       "<symbol overflow=\"visible\" id=\"glyph-1500018270689686-0-12\">\n",
       "<path style=\"stroke:none;\" d=\"M 8.109375 0 L 8.109375 -0.3125 C 7.59375 -0.3125 7.34375 -0.3125 7.328125 -0.609375 L 7.328125 -2.515625 C 7.328125 -3.375 7.328125 -3.671875 7.015625 -4.03125 C 6.875 -4.203125 6.546875 -4.40625 5.96875 -4.40625 C 5.140625 -4.40625 4.6875 -3.8125 4.53125 -3.421875 C 4.390625 -4.296875 3.65625 -4.40625 3.203125 -4.40625 C 2.46875 -4.40625 2 -3.984375 1.71875 -3.359375 L 1.71875 -4.40625 L 0.3125 -4.296875 L 0.3125 -3.984375 C 1.015625 -3.984375 1.09375 -3.921875 1.09375 -3.421875 L 1.09375 -0.75 C 1.09375 -0.3125 0.984375 -0.3125 0.3125 -0.3125 L 0.3125 0 L 1.453125 -0.03125 L 2.5625 0 L 2.5625 -0.3125 C 1.890625 -0.3125 1.78125 -0.3125 1.78125 -0.75 L 1.78125 -2.59375 C 1.78125 -3.625 2.5 -4.1875 3.125 -4.1875 C 3.765625 -4.1875 3.875 -3.65625 3.875 -3.078125 L 3.875 -0.75 C 3.875 -0.3125 3.765625 -0.3125 3.09375 -0.3125 L 3.09375 0 L 4.21875 -0.03125 L 5.328125 0 L 5.328125 -0.3125 C 4.671875 -0.3125 4.5625 -0.3125 4.5625 -0.75 L 4.5625 -2.59375 C 4.5625 -3.625 5.265625 -4.1875 5.90625 -4.1875 C 6.53125 -4.1875 6.640625 -3.65625 6.640625 -3.078125 L 6.640625 -0.75 C 6.640625 -0.3125 6.53125 -0.3125 5.859375 -0.3125 L 5.859375 0 L 6.984375 -0.03125 Z M 8.109375 0 \"/>\n",
       "</symbol>\n",
       "<symbol overflow=\"visible\" id=\"glyph-1500018270689686-0-13\">\n",
       "<path style=\"stroke:none;\" d=\"M 5.1875 -2.15625 C 5.1875 -3.421875 4.21875 -4.40625 3.078125 -4.40625 C 2.296875 -4.40625 1.875 -3.9375 1.71875 -3.765625 L 1.71875 -6.921875 L 0.28125 -6.8125 L 0.28125 -6.5 C 0.984375 -6.5 1.0625 -6.4375 1.0625 -5.9375 L 1.0625 0 L 1.3125 0 L 1.671875 -0.625 C 1.8125 -0.390625 2.234375 0.109375 2.96875 0.109375 C 4.15625 0.109375 5.1875 -0.875 5.1875 -2.15625 Z M 4.359375 -2.15625 C 4.359375 -1.796875 4.34375 -1.203125 4.0625 -0.75 C 3.84375 -0.4375 3.46875 -0.109375 2.9375 -0.109375 C 2.484375 -0.109375 2.125 -0.34375 1.890625 -0.71875 C 1.75 -0.921875 1.75 -0.953125 1.75 -1.140625 L 1.75 -3.1875 C 1.75 -3.375 1.75 -3.390625 1.859375 -3.546875 C 2.25 -4.109375 2.796875 -4.1875 3.03125 -4.1875 C 3.484375 -4.1875 3.84375 -3.921875 4.078125 -3.546875 C 4.34375 -3.140625 4.359375 -2.578125 4.359375 -2.15625 Z M 4.359375 -2.15625 \"/>\n",
       "</symbol>\n",
       "<symbol overflow=\"visible\" id=\"glyph-1500018270689686-0-14\">\n",
       "<path style=\"stroke:none;\" d=\"M 5.09375 0 L 5.09375 -0.3125 C 4.71875 -0.3125 4.5 -0.3125 4.125 -0.84375 L 2.859375 -2.625 C 2.84375 -2.640625 2.796875 -2.703125 2.796875 -2.734375 C 2.796875 -2.765625 3.515625 -3.375 3.609375 -3.453125 C 4.234375 -3.953125 4.65625 -3.984375 4.859375 -3.984375 L 4.859375 -4.296875 C 4.578125 -4.265625 4.453125 -4.265625 4.171875 -4.265625 C 3.8125 -4.265625 3.1875 -4.28125 3.046875 -4.296875 L 3.046875 -3.984375 C 3.234375 -3.984375 3.34375 -3.875 3.34375 -3.734375 C 3.34375 -3.53125 3.203125 -3.421875 3.125 -3.34375 L 1.71875 -2.140625 L 1.71875 -6.921875 L 0.28125 -6.8125 L 0.28125 -6.5 C 0.984375 -6.5 1.0625 -6.4375 1.0625 -5.9375 L 1.0625 -0.75 C 1.0625 -0.3125 0.953125 -0.3125 0.28125 -0.3125 L 0.28125 0 L 1.359375 -0.03125 L 2.46875 0 L 2.46875 -0.3125 C 1.796875 -0.3125 1.6875 -0.3125 1.6875 -0.75 L 1.6875 -1.78125 L 2.328125 -2.328125 C 3.09375 -1.28125 3.515625 -0.71875 3.515625 -0.53125 C 3.515625 -0.34375 3.34375 -0.3125 3.15625 -0.3125 L 3.15625 0 L 4.234375 -0.03125 C 4.515625 -0.03125 4.8125 -0.015625 5.09375 0 Z M 5.09375 0 \"/>\n",
       "</symbol>\n",
       "<symbol overflow=\"visible\" id=\"glyph-1500018270689686-0-15\">\n",
       "<path style=\"stroke:none;\" d=\"M 5.25 0 L 5.25 -0.3125 C 4.5625 -0.3125 4.46875 -0.375 4.46875 -0.875 L 4.46875 -6.921875 L 3.046875 -6.8125 L 3.046875 -6.5 C 3.734375 -6.5 3.8125 -6.4375 3.8125 -5.9375 L 3.8125 -3.78125 C 3.53125 -4.140625 3.09375 -4.40625 2.5625 -4.40625 C 1.390625 -4.40625 0.34375 -3.421875 0.34375 -2.140625 C 0.34375 -0.875 1.3125 0.109375 2.453125 0.109375 C 3.09375 0.109375 3.53125 -0.234375 3.78125 -0.546875 L 3.78125 0.109375 Z M 3.78125 -1.171875 C 3.78125 -1 3.78125 -0.984375 3.671875 -0.8125 C 3.375 -0.328125 2.9375 -0.109375 2.5 -0.109375 C 2.046875 -0.109375 1.6875 -0.375 1.453125 -0.75 C 1.203125 -1.15625 1.171875 -1.71875 1.171875 -2.140625 C 1.171875 -2.5 1.1875 -3.09375 1.46875 -3.546875 C 1.6875 -3.859375 2.0625 -4.1875 2.609375 -4.1875 C 2.953125 -4.1875 3.375 -4.03125 3.671875 -3.59375 C 3.78125 -3.421875 3.78125 -3.40625 3.78125 -3.21875 Z M 3.78125 -1.171875 \"/>\n",
       "</symbol>\n",
       "<symbol overflow=\"visible\" id=\"glyph-1500018270689686-0-16\">\n",
       "<path style=\"stroke:none;\" d=\"M 4.96875 -1.859375 C 4.96875 -2.84375 4.3125 -3.671875 3.484375 -3.875 L 2.203125 -4.171875 C 1.578125 -4.328125 1.203125 -4.859375 1.203125 -5.4375 C 1.203125 -6.140625 1.734375 -6.75 2.515625 -6.75 C 4.171875 -6.75 4.390625 -5.109375 4.453125 -4.671875 C 4.46875 -4.609375 4.46875 -4.546875 4.578125 -4.546875 C 4.703125 -4.546875 4.703125 -4.59375 4.703125 -4.78125 L 4.703125 -6.78125 C 4.703125 -6.953125 4.703125 -7.03125 4.59375 -7.03125 C 4.53125 -7.03125 4.515625 -7.015625 4.453125 -6.890625 L 4.09375 -6.328125 C 3.796875 -6.625 3.390625 -7.03125 2.5 -7.03125 C 1.390625 -7.03125 0.5625 -6.15625 0.5625 -5.09375 C 0.5625 -4.265625 1.09375 -3.53125 1.859375 -3.265625 C 1.96875 -3.234375 2.484375 -3.109375 3.1875 -2.9375 C 3.453125 -2.875 3.75 -2.796875 4.03125 -2.4375 C 4.234375 -2.171875 4.34375 -1.84375 4.34375 -1.515625 C 4.34375 -0.8125 3.84375 -0.09375 3 -0.09375 C 2.71875 -0.09375 1.953125 -0.140625 1.421875 -0.625 C 0.84375 -1.171875 0.8125 -1.796875 0.8125 -2.15625 C 0.796875 -2.265625 0.71875 -2.265625 0.6875 -2.265625 C 0.5625 -2.265625 0.5625 -2.1875 0.5625 -2.015625 L 0.5625 -0.015625 C 0.5625 0.15625 0.5625 0.21875 0.671875 0.21875 C 0.734375 0.21875 0.75 0.203125 0.8125 0.09375 C 0.8125 0.09375 0.84375 0.046875 1.171875 -0.484375 C 1.484375 -0.140625 2.125 0.21875 3.015625 0.21875 C 4.171875 0.21875 4.96875 -0.75 4.96875 -1.859375 Z M 4.96875 -1.859375 \"/>\n",
       "</symbol>\n",
       "<symbol overflow=\"visible\" id=\"glyph-1500018270689686-0-17\">\n",
       "<path style=\"stroke:none;\" d=\"M 5.140625 0 L 5.140625 -0.3125 C 4.609375 -0.3125 4.421875 -0.328125 4.203125 -0.625 L 2.859375 -2.34375 C 3.15625 -2.71875 3.53125 -3.203125 3.78125 -3.46875 C 4.09375 -3.828125 4.5 -3.984375 4.96875 -3.984375 L 4.96875 -4.296875 C 4.703125 -4.28125 4.40625 -4.265625 4.140625 -4.265625 C 3.84375 -4.265625 3.3125 -4.28125 3.1875 -4.296875 L 3.1875 -3.984375 C 3.40625 -3.96875 3.484375 -3.84375 3.484375 -3.671875 C 3.484375 -3.515625 3.375 -3.390625 3.328125 -3.328125 L 2.71875 -2.546875 L 1.9375 -3.5625 C 1.84375 -3.65625 1.84375 -3.671875 1.84375 -3.734375 C 1.84375 -3.890625 2 -3.984375 2.1875 -3.984375 L 2.1875 -4.296875 L 1.109375 -4.265625 C 0.90625 -4.265625 0.4375 -4.28125 0.171875 -4.296875 L 0.171875 -3.984375 C 0.875 -3.984375 0.875 -3.984375 1.34375 -3.375 L 2.328125 -2.09375 C 1.859375 -1.5 1.859375 -1.46875 1.390625 -0.90625 C 0.921875 -0.328125 0.328125 -0.3125 0.125 -0.3125 L 0.125 0 C 0.375 -0.015625 0.6875 -0.03125 0.953125 -0.03125 L 1.890625 0 L 1.890625 -0.3125 C 1.671875 -0.34375 1.609375 -0.46875 1.609375 -0.625 C 1.609375 -0.84375 1.890625 -1.171875 2.5 -1.890625 L 3.265625 -0.890625 C 3.34375 -0.78125 3.46875 -0.625 3.46875 -0.5625 C 3.46875 -0.46875 3.375 -0.3125 3.109375 -0.3125 L 3.109375 0 L 4.1875 -0.03125 C 4.453125 -0.03125 4.84375 -0.015625 5.140625 0 Z M 5.140625 0 \"/>\n",
       "</symbol>\n",
       "<symbol overflow=\"visible\" id=\"glyph-1500018270689686-0-18\">\n",
       "<path style=\"stroke:none;\" d=\"M 2.546875 0 L 2.546875 -0.3125 C 1.875 -0.3125 1.765625 -0.3125 1.765625 -0.75 L 1.765625 -6.921875 L 0.328125 -6.8125 L 0.328125 -6.5 C 1.03125 -6.5 1.109375 -6.4375 1.109375 -5.9375 L 1.109375 -0.75 C 1.109375 -0.3125 1 -0.3125 0.328125 -0.3125 L 0.328125 0 L 1.4375 -0.03125 Z M 2.546875 0 \"/>\n",
       "</symbol>\n",
       "<symbol overflow=\"visible\" id=\"glyph-1500018270689686-0-19\">\n",
       "<path style=\"stroke:none;\" d=\"M 3.59375 -1.28125 C 3.59375 -1.796875 3.296875 -2.109375 3.171875 -2.21875 C 2.84375 -2.546875 2.453125 -2.625 2.03125 -2.703125 C 1.46875 -2.8125 0.8125 -2.9375 0.8125 -3.515625 C 0.8125 -3.875 1.0625 -4.28125 1.921875 -4.28125 C 3.015625 -4.28125 3.078125 -3.375 3.09375 -3.078125 C 3.09375 -2.984375 3.203125 -2.984375 3.203125 -2.984375 C 3.34375 -2.984375 3.34375 -3.03125 3.34375 -3.21875 L 3.34375 -4.234375 C 3.34375 -4.390625 3.34375 -4.46875 3.234375 -4.46875 C 3.1875 -4.46875 3.15625 -4.46875 3.03125 -4.34375 C 3 -4.3125 2.90625 -4.21875 2.859375 -4.1875 C 2.484375 -4.46875 2.078125 -4.46875 1.921875 -4.46875 C 0.703125 -4.46875 0.328125 -3.796875 0.328125 -3.234375 C 0.328125 -2.890625 0.484375 -2.609375 0.75 -2.390625 C 1.078125 -2.140625 1.359375 -2.078125 2.078125 -1.9375 C 2.296875 -1.890625 3.109375 -1.734375 3.109375 -1.015625 C 3.109375 -0.515625 2.765625 -0.109375 1.984375 -0.109375 C 1.140625 -0.109375 0.78125 -0.671875 0.59375 -1.53125 C 0.5625 -1.65625 0.5625 -1.6875 0.453125 -1.6875 C 0.328125 -1.6875 0.328125 -1.625 0.328125 -1.453125 L 0.328125 -0.125 C 0.328125 0.046875 0.328125 0.109375 0.4375 0.109375 C 0.484375 0.109375 0.5 0.09375 0.6875 -0.09375 C 0.703125 -0.109375 0.703125 -0.125 0.890625 -0.3125 C 1.328125 0.09375 1.78125 0.109375 1.984375 0.109375 C 3.125 0.109375 3.59375 -0.5625 3.59375 -1.28125 Z M 3.59375 -1.28125 \"/>\n",
       "</symbol>\n",
       "<symbol overflow=\"visible\" id=\"glyph-1500018270689686-0-20\">\n",
       "<path style=\"stroke:none;\" d=\"M 5.328125 0 L 5.328125 -0.3125 C 4.640625 -0.3125 4.5625 -0.375 4.5625 -0.875 L 4.5625 -4.40625 L 3.09375 -4.296875 L 3.09375 -3.984375 C 3.78125 -3.984375 3.875 -3.921875 3.875 -3.421875 L 3.875 -1.65625 C 3.875 -0.78125 3.390625 -0.109375 2.65625 -0.109375 C 1.828125 -0.109375 1.78125 -0.578125 1.78125 -1.09375 L 1.78125 -4.40625 L 0.3125 -4.296875 L 0.3125 -3.984375 C 1.09375 -3.984375 1.09375 -3.953125 1.09375 -3.078125 L 1.09375 -1.578125 C 1.09375 -0.796875 1.09375 0.109375 2.609375 0.109375 C 3.171875 0.109375 3.609375 -0.171875 3.890625 -0.78125 L 3.890625 0.109375 Z M 5.328125 0 \"/>\n",
       "</symbol>\n",
       "<symbol overflow=\"visible\" id=\"glyph-1500018270689686-0-21\">\n",
       "<path style=\"stroke:none;\" d=\"M 5.0625 -3.984375 L 5.0625 -4.296875 C 4.828125 -4.28125 4.546875 -4.265625 4.3125 -4.265625 L 3.453125 -4.296875 L 3.453125 -3.984375 C 3.8125 -3.984375 3.921875 -3.75 3.921875 -3.5625 C 3.921875 -3.46875 3.90625 -3.421875 3.875 -3.3125 L 2.84375 -0.78125 L 1.734375 -3.5625 C 1.671875 -3.6875 1.671875 -3.734375 1.671875 -3.734375 C 1.671875 -3.984375 2.0625 -3.984375 2.25 -3.984375 L 2.25 -4.296875 L 1.15625 -4.265625 C 0.890625 -4.265625 0.484375 -4.28125 0.1875 -4.296875 L 0.1875 -3.984375 C 0.8125 -3.984375 0.859375 -3.921875 0.984375 -3.625 L 2.421875 -0.078125 C 2.484375 0.0625 2.5 0.109375 2.625 0.109375 C 2.765625 0.109375 2.796875 0.015625 2.84375 -0.078125 L 4.140625 -3.3125 C 4.234375 -3.546875 4.40625 -3.984375 5.0625 -3.984375 Z M 5.0625 -3.984375 \"/>\n",
       "</symbol>\n",
       "<symbol overflow=\"visible\" id=\"glyph-1500018270689686-0-22\">\n",
       "<path style=\"stroke:none;\" d=\"M 2.46875 0 L 2.46875 -0.3125 C 1.796875 -0.3125 1.765625 -0.359375 1.765625 -0.75 L 1.765625 -4.40625 L 0.375 -4.296875 L 0.375 -3.984375 C 1.015625 -3.984375 1.109375 -3.921875 1.109375 -3.4375 L 1.109375 -0.75 C 1.109375 -0.3125 1 -0.3125 0.328125 -0.3125 L 0.328125 0 L 1.421875 -0.03125 C 1.78125 -0.03125 2.125 -0.015625 2.46875 0 Z M 1.90625 -6.015625 C 1.90625 -6.296875 1.6875 -6.546875 1.390625 -6.546875 C 1.046875 -6.546875 0.84375 -6.265625 0.84375 -6.015625 C 0.84375 -5.75 1.078125 -5.5 1.375 -5.5 C 1.71875 -5.5 1.90625 -5.765625 1.90625 -6.015625 Z M 1.90625 -6.015625 \"/>\n",
       "</symbol>\n",
       "</g>\n",
       "<clipPath id=\"clip-1500018270689686-1\">\n",
       "  <path d=\"M 73 10 L 107.574219 10 L 107.574219 63 L 73 63 Z M 73 10 \"/>\n",
       "</clipPath>\n",
       "</defs>\n",
       "<g id=\"surface1\">\n",
       "<path style=\"fill:none;stroke-width:0.3985;stroke-linecap:butt;stroke-linejoin:miter;stroke:rgb(0%,0%,0%);stroke-opacity:1;stroke-miterlimit:10;\" d=\"M 0.001875 -6.961 L 0.001875 -20.746156 \" transform=\"matrix(1,0,0,-1,14.045,7.914)\"/>\n",
       "<path style=\"fill:none;stroke-width:0.31879;stroke-linecap:round;stroke-linejoin:round;stroke:rgb(0%,0%,0%);stroke-opacity:1;stroke-miterlimit:10;\" d=\"M -1.196396 1.595625 C -1.094834 0.997969 -0.00108375 0.0995313 0.299698 0.001875 C -0.00108375 -0.0996875 -1.094834 -0.998125 -1.196396 -1.595781 \" transform=\"matrix(0,1,1,0,14.045,28.66124)\"/>\n",
       "<path style=\"fill:none;stroke-width:0.3985;stroke-linecap:butt;stroke-linejoin:miter;stroke:rgb(0%,0%,0%);stroke-opacity:1;stroke-miterlimit:10;\" d=\"M 62.29875 -4.566469 L 14.67375 -22.746156 \" transform=\"matrix(1,0,0,-1,14.045,7.914)\"/>\n",
       "<path style=\"fill:none;stroke-width:0.31879;stroke-linecap:round;stroke-linejoin:round;stroke:rgb(0%,0%,0%);stroke-opacity:1;stroke-miterlimit:10;\" d=\"M -1.197234 1.594377 C -1.095679 0.995649 0.00024304 0.10089 0.299847 -0.000950337 C -0.000940115 -0.0992407 -1.096039 -0.997497 -1.194614 -1.595041 \" transform=\"matrix(-0.93478,0.35686,0.35686,0.93478,28.71813,30.65951)\"/>\n",
       "<path style=\"fill:none;stroke-width:0.3985;stroke-linecap:butt;stroke-linejoin:miter;stroke:rgb(0%,0%,0%);stroke-opacity:1;stroke-miterlimit:10;\" d=\"M 68.849531 -8.113344 L 60.302656 -20.933656 \" transform=\"matrix(1,0,0,-1,14.045,7.914)\"/>\n",
       "<path style=\"fill:none;stroke-width:0.31879;stroke-linecap:round;stroke-linejoin:round;stroke:rgb(0%,0%,0%);stroke-opacity:1;stroke-miterlimit:10;\" d=\"M -1.197367 1.594212 C -1.094745 0.998015 0.000469301 0.0994232 0.300732 0.0000641658 C 0.000474193 -0.0971497 -1.094696 -0.995796 -1.197287 -1.593078 \" transform=\"matrix(-0.55643,0.8346,0.8346,0.55643,74.34697,28.84663)\"/>\n",
       "<g clip-path=\"url(#clip-1500018270689686-1)\" clip-rule=\"nonzero\">\n",
       "<path style=\"fill:none;stroke-width:0.3985;stroke-linecap:butt;stroke-linejoin:miter;stroke:rgb(0%,0%,0%);stroke-opacity:1;stroke-miterlimit:10;\" d=\"M 79.665937 -8.113344 L 93.154219 -28.347719 L 65.247969 -49.277406 \" transform=\"matrix(1,0,0,-1,14.045,7.914)\"/>\n",
       "</g>\n",
       "<path style=\"fill:none;stroke-width:0.31879;stroke-linecap:round;stroke-linejoin:round;stroke:rgb(0%,0%,0%);stroke-opacity:1;stroke-miterlimit:10;\" d=\"M -1.194678 1.592578 C -1.09592 0.998554 -0.00115092 0.0997638 0.298974 0.00102516 C -0.000369029 -0.100059 -1.094321 -0.99501 -1.194609 -1.595258 \" transform=\"matrix(-0.80385,0.60286,0.60286,0.80385,79.2944,57.19003)\"/>\n",
       "<path style=\"fill:none;stroke-width:0.3985;stroke-linecap:butt;stroke-linejoin:miter;stroke:rgb(0%,0%,0%);stroke-opacity:1;stroke-miterlimit:10;\" d=\"M 5.712813 -35.488344 L 16.67375 -49.191469 \" transform=\"matrix(1,0,0,-1,14.045,7.914)\"/>\n",
       "<path style=\"fill:none;stroke-width:0.31879;stroke-linecap:round;stroke-linejoin:round;stroke:rgb(0%,0%,0%);stroke-opacity:1;stroke-miterlimit:10;\" d=\"M -1.19666 1.59273 C -1.097073 0.99534 -0.00182122 0.0992866 0.296879 -0.000268827 C -0.00181441 -0.0998446 -1.097005 -0.995973 -1.196551 -1.59337 \" transform=\"matrix(0.6277,0.78468,0.78468,-0.6277,30.72011,57.10672)\"/>\n",
       "<path style=\"fill:none;stroke-width:0.3985;stroke-linecap:butt;stroke-linejoin:miter;stroke:rgb(0%,0%,0%);stroke-opacity:1;stroke-miterlimit:10;\" d=\"M 14.244063 -33.171938 L 83.705 -56.695375 L 83.705 -77.441469 \" transform=\"matrix(1,0,0,-1,14.045,7.914)\"/>\n",
       "<path style=\"fill:none;stroke-width:0.31879;stroke-linecap:round;stroke-linejoin:round;stroke:rgb(0%,0%,0%);stroke-opacity:1;stroke-miterlimit:10;\" d=\"M -1.194684 1.59289 C -1.097027 0.995234 0.00062875 0.100702 0.297504 -0.00086 C 0.00062875 -0.0985163 -1.097027 -0.996954 -1.194684 -1.59461 \" transform=\"matrix(0,1,1,0,97.75086,85.35484)\"/>\n",
       "<path style=\"fill:none;stroke-width:0.3985;stroke-linecap:butt;stroke-linejoin:miter;stroke:rgb(0%,0%,0%);stroke-opacity:1;stroke-miterlimit:10;\" d=\"M 47.251875 -35.378969 L 31.255781 -49.250063 \" transform=\"matrix(1,0,0,-1,14.045,7.914)\"/>\n",
       "<path style=\"fill:none;stroke-width:0.31879;stroke-linecap:round;stroke-linejoin:round;stroke:rgb(0%,0%,0%);stroke-opacity:1;stroke-miterlimit:10;\" d=\"M -1.197615 1.594 C -1.097255 0.996892 0.00104904 0.100962 0.300624 0.000845304 C 0.00155985 -0.100414 -1.096257 -0.997852 -1.194723 -1.592531 \" transform=\"matrix(-0.75818,0.6576,0.6576,0.75818,45.30159,57.16495)\"/>\n",
       "<path style=\"fill:none;stroke-width:0.3985;stroke-linecap:butt;stroke-linejoin:miter;stroke:rgb(0%,0%,0%);stroke-opacity:1;stroke-miterlimit:10;\" d=\"M 55.357344 -35.378969 L 55.357344 -49.093813 \" transform=\"matrix(1,0,0,-1,14.045,7.914)\"/>\n",
       "<path style=\"fill:none;stroke-width:0.31879;stroke-linecap:round;stroke-linejoin:round;stroke:rgb(0%,0%,0%);stroke-opacity:1;stroke-miterlimit:10;\" d=\"M -1.19554 1.59596 C -1.093977 0.994398 -0.0002275 0.0998663 0.300554 -0.00169625 C -0.0002275 -0.0993525 -1.093977 -0.99779 -1.19554 -1.595446 \" transform=\"matrix(0,1,1,0,69.40404,57.00804)\"/>\n",
       "<path style=\"fill:none;stroke-width:0.3985;stroke-linecap:butt;stroke-linejoin:miter;stroke:rgb(0%,0%,0%);stroke-opacity:1;stroke-miterlimit:10;\" d=\"M 25.412031 -63.836 L 30.638594 -77.468813 \" transform=\"matrix(1,0,0,-1,14.045,7.914)\"/>\n",
       "<path style=\"fill:none;stroke-width:0.31879;stroke-linecap:round;stroke-linejoin:round;stroke:rgb(0%,0%,0%);stroke-opacity:1;stroke-miterlimit:10;\" d=\"M -1.196224 1.594226 C -1.095525 0.995671 -0.00136897 0.0998997 0.29934 0.00135336 C 0.000823179 -0.101522 -1.094919 -0.997845 -1.194245 -1.59495 \" transform=\"matrix(0.3583,0.93478,0.93478,-0.3583,44.68445,85.38473)\"/>\n",
       "<path style=\"fill:none;stroke-width:0.3985;stroke-linecap:butt;stroke-linejoin:miter;stroke:rgb(0%,0%,0%);stroke-opacity:1;stroke-miterlimit:10;\" d=\"M 49.86125 -63.836 L 39.318281 -77.535219 \" transform=\"matrix(1,0,0,-1,14.045,7.914)\"/>\n",
       "<path style=\"fill:none;stroke-width:0.31879;stroke-linecap:round;stroke-linejoin:round;stroke:rgb(0%,0%,0%);stroke-opacity:1;stroke-miterlimit:10;\" d=\"M -1.194892 1.592287 C -1.094926 0.997056 -0.000408039 0.0977143 0.300211 0.000365366 C -0.00106501 -0.0990459 -1.09651 -0.996147 -1.196385 -1.593092 \" transform=\"matrix(-0.61278,0.79616,0.79616,0.61278,53.36336,85.44826)\"/>\n",
       "<path style=\"fill:none;stroke-width:0.3985;stroke-linecap:butt;stroke-linejoin:miter;stroke:rgb(0%,0%,0%);stroke-opacity:1;stroke-miterlimit:10;\" d=\"M 62.501875 -63.836 L 76.240156 -77.574281 \" transform=\"matrix(1,0,0,-1,14.045,7.914)\"/>\n",
       "<path style=\"fill:none;stroke-width:0.31879;stroke-linecap:round;stroke-linejoin:round;stroke:rgb(0%,0%,0%);stroke-opacity:1;stroke-miterlimit:10;\" d=\"M -1.196831 1.594068 C -1.097393 0.997441 -0.000814948 0.0997384 0.297499 0.000300523 C -0.000814948 -0.0991373 -1.097393 -0.99684 -1.196831 -1.593467 \" transform=\"matrix(0.7071,0.7071,0.7071,-0.7071,90.28552,85.48907)\"/>\n",
       "<g style=\"fill:rgb(0%,0%,0%);fill-opacity:1;\">\n",
       "  <use xlink:href=\"#glyph-1500018270689686-0-1\" x=\"4.137\" y=\"11.246\"/>\n",
       "  <use xlink:href=\"#glyph-1500018270689686-0-2\" x=\"10.642604\" y=\"11.246\"/>\n",
       "  <use xlink:href=\"#glyph-1500018270689686-0-3\" x=\"15.623924\" y=\"11.246\"/>\n",
       "  <use xlink:href=\"#glyph-1500018270689686-0-4\" x=\"19.529279\" y=\"11.246\"/>\n",
       "</g>\n",
       "<g style=\"fill:rgb(0%,0%,0%);fill-opacity:1;\">\n",
       "  <use xlink:href=\"#glyph-1500018270689686-0-5\" x=\"79.863\" y=\"10.454\"/>\n",
       "  <use xlink:href=\"#glyph-1500018270689686-0-6\" x=\"87.33498\" y=\"10.454\"/>\n",
       "  <use xlink:href=\"#glyph-1500018270689686-0-4\" x=\"92.3163\" y=\"10.454\"/>\n",
       "</g>\n",
       "<g style=\"fill:rgb(0%,0%,0%);fill-opacity:1;\">\n",
       "  <use xlink:href=\"#glyph-1500018270689686-0-7\" x=\"3.321\" y=\"39.662\"/>\n",
       "  <use xlink:href=\"#glyph-1500018270689686-0-8\" x=\"10.79298\" y=\"39.662\"/>\n",
       "  <use xlink:href=\"#glyph-1500018270689686-0-9\" x=\"17.577538\" y=\"39.662\"/>\n",
       "</g>\n",
       "<g style=\"fill:rgb(0%,0%,0%);fill-opacity:1;\">\n",
       "  <use xlink:href=\"#glyph-1500018270689686-0-8\" x=\"38.445\" y=\"39.662\"/>\n",
       "  <use xlink:href=\"#glyph-1500018270689686-0-10\" x=\"45.229558\" y=\"39.662\"/>\n",
       "  <use xlink:href=\"#glyph-1500018270689686-0-3\" x=\"50.210878\" y=\"39.662\"/>\n",
       "  <use xlink:href=\"#glyph-1500018270689686-0-11\" x=\"54.116233\" y=\"39.662\"/>\n",
       "  <use xlink:href=\"#glyph-1500018270689686-0-4\" x=\"57.9917\" y=\"39.662\"/>\n",
       "  <use xlink:href=\"#glyph-1500018270689686-0-12\" x=\"62.415112\" y=\"39.662\"/>\n",
       "  <use xlink:href=\"#glyph-1500018270689686-0-13\" x=\"70.713991\" y=\"39.662\"/>\n",
       "  <use xlink:href=\"#glyph-1500018270689686-0-2\" x=\"76.253219\" y=\"39.662\"/>\n",
       "  <use xlink:href=\"#glyph-1500018270689686-0-3\" x=\"81.234539\" y=\"39.662\"/>\n",
       "  <use xlink:href=\"#glyph-1500018270689686-0-14\" x=\"85.139894\" y=\"39.662\"/>\n",
       "  <use xlink:href=\"#glyph-1500018270689686-0-4\" x=\"90.400168\" y=\"39.662\"/>\n",
       "  <use xlink:href=\"#glyph-1500018270689686-0-15\" x=\"94.82358\" y=\"39.662\"/>\n",
       "</g>\n",
       "<g style=\"fill:rgb(0%,0%,0%);fill-opacity:1;\">\n",
       "  <use xlink:href=\"#glyph-1500018270689686-0-16\" x=\"29.109\" y=\"68.009\"/>\n",
       "  <use xlink:href=\"#glyph-1500018270689686-0-4\" x=\"34.648228\" y=\"68.009\"/>\n",
       "  <use xlink:href=\"#glyph-1500018270689686-0-17\" x=\"39.07164\" y=\"68.009\"/>\n",
       "</g>\n",
       "<g style=\"fill:rgb(0%,0%,0%);fill-opacity:1;\">\n",
       "  <use xlink:href=\"#glyph-1500018270689686-0-9\" x=\"58.006\" y=\"68.009\"/>\n",
       "  <use xlink:href=\"#glyph-1500018270689686-0-18\" x=\"65.199026\" y=\"68.009\"/>\n",
       "  <use xlink:href=\"#glyph-1500018270689686-0-2\" x=\"67.96864\" y=\"68.009\"/>\n",
       "  <use xlink:href=\"#glyph-1500018270689686-0-19\" x=\"72.94996\" y=\"68.009\"/>\n",
       "  <use xlink:href=\"#glyph-1500018270689686-0-19\" x=\"76.87524\" y=\"68.009\"/>\n",
       "</g>\n",
       "<g style=\"fill:rgb(0%,0%,0%);fill-opacity:1;\">\n",
       "  <use xlink:href=\"#glyph-1500018270689686-0-16\" x=\"28.468\" y=\"96.355\"/>\n",
       "  <use xlink:href=\"#glyph-1500018270689686-0-20\" x=\"34.007228\" y=\"96.355\"/>\n",
       "  <use xlink:href=\"#glyph-1500018270689686-0-3\" x=\"39.546456\" y=\"96.355\"/>\n",
       "  <use xlink:href=\"#glyph-1500018270689686-0-21\" x=\"43.451811\" y=\"96.355\"/>\n",
       "  <use xlink:href=\"#glyph-1500018270689686-0-22\" x=\"48.712084\" y=\"96.355\"/>\n",
       "  <use xlink:href=\"#glyph-1500018270689686-0-21\" x=\"51.481698\" y=\"96.355\"/>\n",
       "  <use xlink:href=\"#glyph-1500018270689686-0-4\" x=\"56.741972\" y=\"96.355\"/>\n",
       "  <use xlink:href=\"#glyph-1500018270689686-0-15\" x=\"61.165384\" y=\"96.355\"/>\n",
       "</g>\n",
       "<g style=\"fill:rgb(0%,0%,0%);fill-opacity:1;\">\n",
       "  <use xlink:href=\"#glyph-1500018270689686-0-7\" x=\"91.244\" y=\"96.355\"/>\n",
       "  <use xlink:href=\"#glyph-1500018270689686-0-16\" x=\"98.71598\" y=\"96.355\"/>\n",
       "</g>\n",
       "</g>\n",
       "</svg>\n",
       "\n"
      ],
      "text/plain": [
       "BayesNets.BayesNet{BayesNets.CPDs.CategoricalCPD{Distributions.Categorical{Float64}}}({8, 11} directed simple Int64 graph, BayesNets.CPDs.CategoricalCPD{Distributions.Categorical{Float64}}[BayesNets.CPDs.CategoricalCPD{Distributions.Categorical{Float64}}(:Fare, Symbol[], Int64[], Distributions.Categorical{Float64}[Distributions.Categorical{Float64}(K=3, p=[0.977503, 0.0191226, 0.00337458])]), BayesNets.CPDs.CategoricalCPD{Distributions.Categorical{Float64}}(:Age, Symbol[], Int64[], Distributions.Categorical{Float64}[Distributions.Categorical{Float64}(K=3, p=[0.35883, 0.586052, 0.0551181])]), BayesNets.CPDs.CategoricalCPD{Distributions.Categorical{Float64}}(:NPC, Symbol[:Age, :Fare], [3, 3], Distributions.Categorical{Float64}[Distributions.Categorical{Float64}(K=3, p=[0.836013, 0.163987, 0.0]), Distributions.Categorical{Float64}(K=3, p=[0.931373, 0.0509804, 0.0176471]), Distributions.Categorical{Float64}(K=3, p=[0.958333, 0.0416667, 0.0]), Distributions.Categorical{Float64}(K=3, p=[0.375, 0.625, 0.0]), Distributions.Categorical{Float64}(K=3, p=[0.875, 0.125, 0.0]), Distributions.Categorical{Float64}(K=3, p=[0.0, 0.0, 1.0]), Distributions.Categorical{Float64}(K=3, p=[0.333333, 0.333333, 0.333333]), Distributions.Categorical{Float64}(K=3, p=[1.0, 0.0, 0.0]), Distributions.Categorical{Float64}(K=3, p=[0.333333, 0.333333, 0.333333])]), BayesNets.CPDs.CategoricalCPD{Distributions.Categorical{Float64}}(:Portembarked, Symbol[:Age], [3], Distributions.Categorical{Float64}[Distributions.Categorical{Float64}(K=3, p=[0.777429, 0.178683, 0.0438871]), Distributions.Categorical{Float64}(K=3, p=[0.696737, 0.1881, 0.115163]), Distributions.Categorical{Float64}(K=3, p=[0.673469, 0.265306, 0.0612245])]), BayesNets.CPDs.CategoricalCPD{Distributions.Categorical{Float64}}(:Sex, Symbol[:Portembarked, :NPC], [3, 3], Distributions.Categorical{Float64}[Distributions.Categorical{Float64}(K=2, p=[0.726148, 0.273852]), Distributions.Categorical{Float64}(K=2, p=[0.588235, 0.411765]), Distributions.Categorical{Float64}(K=2, p=[0.546667, 0.453333]), Distributions.Categorical{Float64}(K=2, p=[0.391304, 0.608696]), Distributions.Categorical{Float64}(K=2, p=[0.333333, 0.666667]), Distributions.Categorical{Float64}(K=2, p=[0.0, 1.0]), Distributions.Categorical{Float64}(K=2, p=[0.333333, 0.666667]), Distributions.Categorical{Float64}(K=2, p=[0.5, 0.5]), Distributions.Categorical{Float64}(K=2, p=[0.0, 1.0])]), BayesNets.CPDs.CategoricalCPD{Distributions.Categorical{Float64}}(:Class, Symbol[:Age, :Portembarked], [3, 3], Distributions.Categorical{Float64}[Distributions.Categorical{Float64}(K=3, p=[0.669355, 0.0927419, 0.237903]), Distributions.Categorical{Float64}(K=3, p=[0.501377, 0.239669, 0.258953]), Distributions.Categorical{Float64}(K=3, p=[0.151515, 0.515152, 0.333333]), Distributions.Categorical{Float64}(K=3, p=[0.491228, 0.368421, 0.140351]), Distributions.Categorical{Float64}(K=3, p=[0.387755, 0.520408, 0.0918367]), Distributions.Categorical{Float64}(K=3, p=[0.0, 1.0, 0.0]), Distributions.Categorical{Float64}(K=3, p=[1.0, 0.0, 0.0]), Distributions.Categorical{Float64}(K=3, p=[0.933333, 0.0333333, 0.0333333]), Distributions.Categorical{Float64}(K=3, p=[0.666667, 0.0, 0.333333])]), BayesNets.CPDs.CategoricalCPD{Distributions.Categorical{Float64}}(:Survived, Symbol[:Class, :Sex], [3, 2], Distributions.Categorical{Float64}[Distributions.Categorical{Float64}(K=2, p=[0.864553, 0.135447]), Distributions.Categorical{Float64}(K=2, p=[0.631148, 0.368852]), Distributions.Categorical{Float64}(K=2, p=[0.842593, 0.157407]), Distributions.Categorical{Float64}(K=2, p=[0.5, 0.5]), Distributions.Categorical{Float64}(K=2, p=[0.0326087, 0.967391]), Distributions.Categorical{Float64}(K=2, p=[0.0789474, 0.921053])]), BayesNets.CPDs.CategoricalCPD{Distributions.Categorical{Float64}}(:NS, Symbol[:NPC, :Class], [3, 3], Distributions.Categorical{Float64}[Distributions.Categorical{Float64}(K=3, p=[0.961009, 0.0389908, 0.0]), Distributions.Categorical{Float64}(K=3, p=[0.456522, 0.391304, 0.152174]), Distributions.Categorical{Float64}(K=3, p=[1.0, 0.0, 0.0]), Distributions.Categorical{Float64}(K=3, p=[1.0, 0.0, 0.0]), Distributions.Categorical{Float64}(K=3, p=[0.857143, 0.142857, 0.0]), Distributions.Categorical{Float64}(K=3, p=[1.0, 0.0, 0.0]), Distributions.Categorical{Float64}(K=3, p=[0.993976, 0.0060241, 0.0]), Distributions.Categorical{Float64}(K=3, p=[1.0, 0.0, 0.0]), Distributions.Categorical{Float64}(K=3, p=[0.333333, 0.333333, 0.333333])])], Dict(:Portembarked=>4,:NPC=>3,:Age=>2,:Fare=>1,:Class=>6,:NS=>8,:Sex=>5,:Survived=>7))"
      ]
     },
     "execution_count": 10,
     "metadata": {},
     "output_type": "execute_result"
    }
   ],
   "source": [
    "folkbn = fit(DiscreteBayesNet, titanic_data, (:Fare=>:NPC, :NPC=>:Sex, :Sex=>:Survived, :NPC=>:NS, :Age=>:NPC, :Age=>:Portembarked, :Portembarked=>:Sex, :Portembarked=>:Class, :Class=>:Survived, :Class=>:NS, :Age=>:Class))\n",
    "\n"
   ]
  },
  {
   "cell_type": "code",
   "execution_count": 11,
   "metadata": {
    "scrolled": true
   },
   "outputs": [
    {
     "name": "stderr",
     "output_type": "stream",
     "text": [
      "\u001b[1m\u001b[33mWARNING: \u001b[39m\u001b[22m\u001b[33mArray{T}(::Type{T}, m::Int) is deprecated, use Array{T}(m) instead.\u001b[39m\n",
      "Stacktrace:\n",
      " [1] \u001b[1mdepwarn\u001b[22m\u001b[22m\u001b[1m(\u001b[22m\u001b[22m::String, ::Symbol\u001b[1m)\u001b[22m\u001b[22m at \u001b[1m./deprecated.jl:70\u001b[22m\u001b[22m\n",
      " [2] \u001b[1mArray\u001b[22m\u001b[22m\u001b[1m(\u001b[22m\u001b[22m::Type{Array{Int64,1}}, ::Int64\u001b[1m)\u001b[22m\u001b[22m at \u001b[1m./deprecated.jl:57\u001b[22m\u001b[22m\n",
      " [3] \u001b[1mbayesian_score\u001b[22m\u001b[22m\u001b[1m(\u001b[22m\u001b[22m::BayesNets.BayesNet{BayesNets.CPDs.CategoricalCPD{Distributions.Categorical{Float64}}}, ::DataFrames.DataFrame, ::BayesNets.UniformPrior\u001b[1m)\u001b[22m\u001b[22m at \u001b[1m/Users/siyu/.julia/v0.6/BayesNets/src/DiscreteBayesNet/structure_scoring.jl:68\u001b[22m\u001b[22m\n",
      " [4] \u001b[1mbayesian_score\u001b[22m\u001b[22m\u001b[1m(\u001b[22m\u001b[22m::BayesNets.BayesNet{BayesNets.CPDs.CategoricalCPD{Distributions.Categorical{Float64}}}, ::DataFrames.DataFrame\u001b[1m)\u001b[22m\u001b[22m at \u001b[1m/Users/siyu/.julia/v0.6/BayesNets/src/DiscreteBayesNet/structure_scoring.jl:67\u001b[22m\u001b[22m\n",
      " [5] \u001b[1minclude_string\u001b[22m\u001b[22m\u001b[1m(\u001b[22m\u001b[22m::String, ::String\u001b[1m)\u001b[22m\u001b[22m at \u001b[1m./loading.jl:515\u001b[22m\u001b[22m\n",
      " [6] \u001b[1mexecute_request\u001b[22m\u001b[22m\u001b[1m(\u001b[22m\u001b[22m::ZMQ.Socket, ::IJulia.Msg\u001b[1m)\u001b[22m\u001b[22m at \u001b[1m/Users/siyu/.julia/v0.6/IJulia/src/execute_request.jl:160\u001b[22m\u001b[22m\n",
      " [7] \u001b[1meventloop\u001b[22m\u001b[22m\u001b[1m(\u001b[22m\u001b[22m::ZMQ.Socket\u001b[1m)\u001b[22m\u001b[22m at \u001b[1m/Users/siyu/.julia/v0.6/IJulia/src/eventloop.jl:8\u001b[22m\u001b[22m\n",
      " [8] \u001b[1m(::IJulia.##11#14)\u001b[22m\u001b[22m\u001b[1m(\u001b[22m\u001b[22m\u001b[1m)\u001b[22m\u001b[22m at \u001b[1m./task.jl:335\u001b[22m\u001b[22m\n",
      "while loading In[11], in expression starting on line 1\n",
      "\u001b[1m\u001b[33mWARNING: \u001b[39m\u001b[22m\u001b[33mArray{T}(::Type{T}, m::Int) is deprecated, use Array{T}(m) instead.\u001b[39m\n",
      "Stacktrace:\n",
      " [1] \u001b[1mdepwarn\u001b[22m\u001b[22m\u001b[1m(\u001b[22m\u001b[22m::String, ::Symbol\u001b[1m)\u001b[22m\u001b[22m at \u001b[1m./deprecated.jl:70\u001b[22m\u001b[22m\n",
      " [2] \u001b[1mArray\u001b[22m\u001b[22m\u001b[1m(\u001b[22m\u001b[22m::Type{Int64}, ::Int64\u001b[1m)\u001b[22m\u001b[22m at \u001b[1m./deprecated.jl:57\u001b[22m\u001b[22m\n",
      " [3] \u001b[1mbayesian_score\u001b[22m\u001b[22m\u001b[1m(\u001b[22m\u001b[22m::BayesNets.BayesNet{BayesNets.CPDs.CategoricalCPD{Distributions.Categorical{Float64}}}, ::DataFrames.DataFrame, ::BayesNets.UniformPrior\u001b[1m)\u001b[22m\u001b[22m at \u001b[1m/Users/siyu/.julia/v0.6/BayesNets/src/DiscreteBayesNet/structure_scoring.jl:69\u001b[22m\u001b[22m\n",
      " [4] \u001b[1mbayesian_score\u001b[22m\u001b[22m\u001b[1m(\u001b[22m\u001b[22m::BayesNets.BayesNet{BayesNets.CPDs.CategoricalCPD{Distributions.Categorical{Float64}}}, ::DataFrames.DataFrame\u001b[1m)\u001b[22m\u001b[22m at \u001b[1m/Users/siyu/.julia/v0.6/BayesNets/src/DiscreteBayesNet/structure_scoring.jl:67\u001b[22m\u001b[22m\n",
      " [5] \u001b[1minclude_string\u001b[22m\u001b[22m\u001b[1m(\u001b[22m\u001b[22m::String, ::String\u001b[1m)\u001b[22m\u001b[22m at \u001b[1m./loading.jl:515\u001b[22m\u001b[22m\n",
      " [6] \u001b[1mexecute_request\u001b[22m\u001b[22m\u001b[1m(\u001b[22m\u001b[22m::ZMQ.Socket, ::IJulia.Msg\u001b[1m)\u001b[22m\u001b[22m at \u001b[1m/Users/siyu/.julia/v0.6/IJulia/src/execute_request.jl:160\u001b[22m\u001b[22m\n",
      " [7] \u001b[1meventloop\u001b[22m\u001b[22m\u001b[1m(\u001b[22m\u001b[22m::ZMQ.Socket\u001b[1m)\u001b[22m\u001b[22m at \u001b[1m/Users/siyu/.julia/v0.6/IJulia/src/eventloop.jl:8\u001b[22m\u001b[22m\n",
      " [8] \u001b[1m(::IJulia.##11#14)\u001b[22m\u001b[22m\u001b[1m(\u001b[22m\u001b[22m\u001b[1m)\u001b[22m\u001b[22m at \u001b[1m./task.jl:335\u001b[22m\u001b[22m\n",
      "while loading In[11], in expression starting on line 1\n",
      "\u001b[1m\u001b[33mWARNING: \u001b[39m\u001b[22m\u001b[33mlgamma{T <: Number}(x::AbstractArray{T}) is deprecated, use lgamma.(x) instead.\u001b[39m\n",
      "Stacktrace:\n",
      " [1] \u001b[1mdepwarn\u001b[22m\u001b[22m\u001b[1m(\u001b[22m\u001b[22m::String, ::Symbol\u001b[1m)\u001b[22m\u001b[22m at \u001b[1m./deprecated.jl:70\u001b[22m\u001b[22m\n",
      " [2] \u001b[1mlgamma\u001b[22m\u001b[22m\u001b[1m(\u001b[22m\u001b[22m::Array{Float64,2}\u001b[1m)\u001b[22m\u001b[22m at \u001b[1m./deprecated.jl:57\u001b[22m\u001b[22m\n",
      " [3] \u001b[1mbayesian_score_component\u001b[22m\u001b[22m\u001b[1m(\u001b[22m\u001b[22m::Int64, ::Array{Int64,1}, ::Array{Int64,1}, ::Array{Int64,2}, ::Array{Float64,2}\u001b[1m)\u001b[22m\u001b[22m at \u001b[1m/Users/siyu/.julia/v0.6/BayesNets/src/DiscreteBayesNet/structure_scoring.jl:38\u001b[22m\u001b[22m\n",
      " [4] \u001b[1mbayesian_score\u001b[22m\u001b[22m\u001b[1m(\u001b[22m\u001b[22m::Array{Array{Int64,1},1}, ::Array{Int64,1}, ::Array{Int64,2}, ::BayesNets.UniformPrior\u001b[1m)\u001b[22m\u001b[22m at \u001b[1m/Users/siyu/.julia/v0.6/BayesNets/src/DiscreteBayesNet/structure_scoring.jl:61\u001b[22m\u001b[22m\n",
      " [5] \u001b[1mbayesian_score\u001b[22m\u001b[22m\u001b[1m(\u001b[22m\u001b[22m::BayesNets.BayesNet{BayesNets.CPDs.CategoricalCPD{Distributions.Categorical{Float64}}}, ::DataFrames.DataFrame, ::BayesNets.UniformPrior\u001b[1m)\u001b[22m\u001b[22m at \u001b[1m/Users/siyu/.julia/v0.6/BayesNets/src/DiscreteBayesNet/structure_scoring.jl:77\u001b[22m\u001b[22m\n",
      " [6] \u001b[1mbayesian_score\u001b[22m\u001b[22m\u001b[1m(\u001b[22m\u001b[22m::BayesNets.BayesNet{BayesNets.CPDs.CategoricalCPD{Distributions.Categorical{Float64}}}, ::DataFrames.DataFrame\u001b[1m)\u001b[22m\u001b[22m at \u001b[1m/Users/siyu/.julia/v0.6/BayesNets/src/DiscreteBayesNet/structure_scoring.jl:67\u001b[22m\u001b[22m\n",
      " [7] \u001b[1minclude_string\u001b[22m\u001b[22m\u001b[1m(\u001b[22m\u001b[22m::String, ::String\u001b[1m)\u001b[22m\u001b[22m at \u001b[1m./loading.jl:515\u001b[22m\u001b[22m\n",
      " [8] \u001b[1mexecute_request\u001b[22m\u001b[22m\u001b[1m(\u001b[22m\u001b[22m::ZMQ.Socket, ::IJulia.Msg\u001b[1m)\u001b[22m\u001b[22m at \u001b[1m/Users/siyu/.julia/v0.6/IJulia/src/execute_request.jl:160\u001b[22m\u001b[22m\n",
      " [9] \u001b[1meventloop\u001b[22m\u001b[22m\u001b[1m(\u001b[22m\u001b[22m::ZMQ.Socket\u001b[1m)\u001b[22m\u001b[22m at \u001b[1m/Users/siyu/.julia/v0.6/IJulia/src/eventloop.jl:8\u001b[22m\u001b[22m\n",
      " [10] \u001b[1m(::IJulia.##11#14)\u001b[22m\u001b[22m\u001b[1m(\u001b[22m\u001b[22m\u001b[1m)\u001b[22m\u001b[22m at \u001b[1m./task.jl:335\u001b[22m\u001b[22m\n",
      "while loading In[11], in expression starting on line 1\n"
     ]
    },
    {
     "data": {
      "text/plain": [
       "-4052.208210689849"
      ]
     },
     "execution_count": 11,
     "metadata": {},
     "output_type": "execute_result"
    }
   ],
   "source": [
    "bayesian_score(folkbn, titanic_data)"
   ]
  },
  {
   "cell_type": "code",
   "execution_count": 12,
   "metadata": {},
   "outputs": [
    {
     "data": {
      "text/plain": [
       "BayesNets.CPDs.StaticCPD{Distributions.Categorical{Float64}}(:Fare, Symbol[], Distributions.Categorical{Float64}(K=3, p=[0.977503, 0.0191226, 0.00337458]))"
      ]
     },
     "execution_count": 12,
     "metadata": {},
     "output_type": "execute_result"
    }
   ],
   "source": [
    "cpdFare = fit(StaticCPD{Categorical}, titanic_data, :Fare)"
   ]
  },
  {
   "cell_type": "code",
   "execution_count": 13,
   "metadata": {},
   "outputs": [
    {
     "data": {
      "text/plain": [
       "BayesNets.CPDs.StaticCPD{Distributions.Categorical{Float64}}(:Age, Symbol[], Distributions.Categorical{Float64}(K=3, p=[0.35883, 0.586052, 0.0551181]))"
      ]
     },
     "execution_count": 13,
     "metadata": {},
     "output_type": "execute_result"
    }
   ],
   "source": [
    "cpdAge = fit(StaticCPD{Categorical}, titanic_data, :Age)"
   ]
  },
  {
   "cell_type": "code",
   "execution_count": 14,
   "metadata": {},
   "outputs": [
    {
     "data": {
      "text/plain": [
       "BayesNets.CPDs.StaticCPD{Distributions.Categorical{Float64}}(:NPC, Symbol[:Fare, :Age], Distributions.Categorical{Float64}(K=3, p=[0.893138, 0.095613, 0.0112486]))"
      ]
     },
     "execution_count": 14,
     "metadata": {},
     "output_type": "execute_result"
    }
   ],
   "source": [
    "cpdNPC = fit(StaticCPD{Categorical}, titanic_data, :NPC, [:Fare, :Age])"
   ]
  },
  {
   "cell_type": "code",
   "execution_count": 15,
   "metadata": {},
   "outputs": [
    {
     "data": {
      "text/plain": [
       "Distributions.Categorical{Float64}(K=3, p=[0.893138, 0.095613, 0.0112486])"
      ]
     },
     "execution_count": 15,
     "metadata": {},
     "output_type": "execute_result"
    }
   ],
   "source": [
    "cpdNPC(Assignment(:Fare=>1, :Age=>1))"
   ]
  },
  {
   "cell_type": "code",
   "execution_count": 16,
   "metadata": {},
   "outputs": [
    {
     "data": {
      "text/plain": [
       "0.01124859392575928"
      ]
     },
     "execution_count": 16,
     "metadata": {},
     "output_type": "execute_result"
    }
   ],
   "source": [
    "pdf(cpdNPC, Assignment(:Fare=>1, :Age=>1, :NPC=>3))"
   ]
  },
  {
   "cell_type": "code",
   "execution_count": null,
   "metadata": {
    "collapsed": true
   },
   "outputs": [],
   "source": []
  }
 ],
 "metadata": {
  "kernelspec": {
   "display_name": "Julia 0.6.0",
   "language": "julia",
   "name": "julia-0.6"
  },
  "language_info": {
   "file_extension": ".jl",
   "mimetype": "application/julia",
   "name": "julia",
   "version": "0.6.0"
  }
 },
 "nbformat": 4,
 "nbformat_minor": 2
}
